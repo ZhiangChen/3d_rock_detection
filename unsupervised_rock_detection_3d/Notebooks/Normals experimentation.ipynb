{
 "cells": [
  {
   "cell_type": "code",
   "execution_count": 3,
   "id": "a8ef4d98-050f-4eef-b518-5fc7c23fef7b",
   "metadata": {},
   "outputs": [],
   "source": [
    "import open3d as o3d\n",
    "import numpy as np\n",
    "from collections import deque\n",
    "import pandas as pd"
   ]
  },
  {
   "cell_type": "code",
   "execution_count": 4,
   "id": "9e52eb94-3563-48c5-927c-5fcae03d7470",
   "metadata": {},
   "outputs": [
    {
     "name": "stdout",
     "output_type": "stream",
     "text": [
      "/Users/deeprodge/Downloads/DREAMS/PG&E/rock_detection_3d/unsupervised_rock_detection_3d\n"
     ]
    }
   ],
   "source": [
    "%cd /Users/deeprodge/Downloads/DREAMS/PG&E/rock_detection_3d/unsupervised_rock_detection_3d"
   ]
  },
  {
   "cell_type": "code",
   "execution_count": 5,
   "id": "60b09aca-a50f-4e13-bba3-92ec8cca63f1",
   "metadata": {},
   "outputs": [
    {
     "data": {
      "text/plain": [
       "PointCloud with 223791 points."
      ]
     },
     "execution_count": 5,
     "metadata": {},
     "output_type": "execute_result"
    }
   ],
   "source": [
    "# Load point cloud\n",
    "pcd = o3d.io.read_point_cloud(\"box_pbr/pbr37.pcd\")\n",
    "\n",
    "pcd.paint_uniform_color([1, 0.5, 0.5])"
   ]
  },
  {
   "cell_type": "code",
   "execution_count": 7,
   "id": "d58aaa82-b17d-49a4-8778-18161ac47371",
   "metadata": {},
   "outputs": [
    {
     "name": "stdout",
     "output_type": "stream",
     "text": [
      ":: Estimate normal with search radius 0.500.\n"
     ]
    }
   ],
   "source": [
    "# Preprocess the point cloud to estimate normals\n",
    "#pcd.estimate_normals()\n",
    "\n",
    "voxel_size = 0.05\n",
    "pcd_down = pcd.voxel_down_sample(voxel_size)\n",
    "radius_normal = voxel_size * 10\n",
    "print(\":: Estimate normal with search radius %.3f.\" % radius_normal)\n",
    "pcd_down.estimate_normals(\n",
    "    o3d.geometry.KDTreeSearchParamHybrid(radius=radius_normal, max_nn=100))\n",
    "\n",
    "pcd_down.orient_normals_consistent_tangent_plane(k=4)\n",
    "pcd_down.normals = o3d.utility.Vector3dVector(-np.asarray(pcd_down.normals))"
   ]
  },
  {
   "cell_type": "code",
   "execution_count": 8,
   "id": "aa81d58a-1379-4f24-ae2c-1e3649a74736",
   "metadata": {},
   "outputs": [
    {
     "name": "stdout",
     "output_type": "stream",
     "text": [
      "\u001b[1;33m[Open3D WARNING] GLFW Error: Cocoa: Failed to find service port for display\u001b[0;m\n"
     ]
    }
   ],
   "source": [
    "o3d.visualization.draw_geometries([pcd_down],\n",
    "                                  point_show_normal = True )"
   ]
  },
  {
   "cell_type": "code",
   "execution_count": null,
   "id": "c4b4330c-c4ae-4462-a440-9656c36fbb55",
   "metadata": {},
   "outputs": [],
   "source": []
  },
  {
   "cell_type": "code",
   "execution_count": null,
   "id": "a009e96d-06e8-4b31-a331-7f4c749f1791",
   "metadata": {},
   "outputs": [],
   "source": []
  }
 ],
 "metadata": {
  "kernelspec": {
   "display_name": "Python 3 (ipykernel)",
   "language": "python",
   "name": "python3"
  },
  "language_info": {
   "codemirror_mode": {
    "name": "ipython",
    "version": 3
   },
   "file_extension": ".py",
   "mimetype": "text/x-python",
   "name": "python",
   "nbconvert_exporter": "python",
   "pygments_lexer": "ipython3",
   "version": "3.10.14"
  }
 },
 "nbformat": 4,
 "nbformat_minor": 5
}
