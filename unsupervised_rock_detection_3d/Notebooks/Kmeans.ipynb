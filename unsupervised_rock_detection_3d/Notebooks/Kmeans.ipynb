{
 "cells": [
  {
   "cell_type": "code",
   "execution_count": 4,
   "id": "e08ee289-3369-48d4-be20-1f42258b7293",
   "metadata": {},
   "outputs": [
    {
     "name": "stdout",
     "output_type": "stream",
     "text": [
      "/Users/deeprodge/Downloads/DREAMS/PG&E/rock_detection_3d/unsupervised_rock_detection_3d\n"
     ]
    }
   ],
   "source": [
    "%cd /Users/deeprodge/Downloads/DREAMS/PG&E/rock_detection_3d/unsupervised_rock_detection_3d"
   ]
  },
  {
   "cell_type": "code",
   "execution_count": 26,
   "id": "3927c598-1b3d-47a8-877b-8dc7d8550de3",
   "metadata": {},
   "outputs": [],
   "source": [
    "import laspy\n",
    "import os\n",
    "import open3d as o3d\n",
    "import numpy as np\n",
    "from sklearn.cluster import KMeans\n",
    "import matplotlib.pyplot as plt"
   ]
  },
  {
   "cell_type": "code",
   "execution_count": 27,
   "id": "209ebfaf-182d-4b7f-910f-a27ba1d07680",
   "metadata": {},
   "outputs": [
    {
     "name": "stdout",
     "output_type": "stream",
     "text": [
      "box_pbr/pbr107.las\n"
     ]
    },
    {
     "data": {
      "text/plain": [
       "True"
      ]
     },
     "execution_count": 27,
     "metadata": {},
     "output_type": "execute_result"
    }
   ],
   "source": [
    "las_files = ['box_pbr/' + f for f in os.listdir('box_pbr/') if f.endswith('.las')]\n",
    "las_file_path = las_files[0]\n",
    "print(las_file_path)\n",
    "# Read .las file using laspy\n",
    "# las = laspy.read(las_files[1])\n",
    "# point_data = np.stack([las.X, las.Y, las.Z], axis=0).transpose((1, 0))\n",
    "# point_data\n",
    "# geom = o3d.geometry.PointCloud()\n",
    "# geom.points = o3d.utility.Vector3dVector(point_data)\n",
    "# o3d.visualization.draw_geometries([geom])\n",
    "\n",
    "\n",
    "\n",
    "# for las_file in las_files[:5]:\n",
    "pc = laspy.read(las_files[0])\n",
    "x = pc.x.scaled_array()\n",
    "x_mean = np.mean(x)\n",
    "y = pc.y.scaled_array()\n",
    "y_mean = np.mean(y)\n",
    "z = pc.z.scaled_array()\n",
    "z_mean = np.mean(z)\n",
    "r = np.uint8(pc.red/65535.*255)\n",
    "g = np.uint8(pc.green/65535.*255)\n",
    "b = np.uint8(pc.blue/65535.*255)\n",
    "rgb = np.vstack((r, g, b)).transpose()\n",
    "xyz = np.vstack((x-x_mean, y-y_mean, z-z_mean)).transpose()\n",
    "pcd = o3d.geometry.PointCloud()\n",
    "pcd.points = o3d.utility.Vector3dVector(xyz)\n",
    "pcd.colors = o3d.utility.Vector3dVector(rgb)\n",
    "o3d.io.write_point_cloud(\"pbr_mean.pcd\", pcd)\n",
    "#o3d.visualization.draw_geometries([pcd])\n",
    "#     print(las_file)"
   ]
  },
  {
   "cell_type": "code",
   "execution_count": null,
   "id": "1e528f25-3833-47c0-bf4e-1c292f4990b4",
   "metadata": {},
   "outputs": [],
   "source": [
    "\n"
   ]
  },
  {
   "cell_type": "code",
   "execution_count": 335,
   "id": "bf09e358-9501-482e-ba74-4fe6fad1a4a5",
   "metadata": {},
   "outputs": [],
   "source": [
    "class KMeansSegmentation:\n",
    "    def __init__(self, pcd, n_clusters=2, height_weight=1.0, slope_weight=1.0, normal_weight=1.0):\n",
    "        self.pcd = pcd\n",
    "        self.n_clusters = n_clusters\n",
    "        self.labels = np.array([])\n",
    "        self.height_weight = height_weight\n",
    "        self.slope_weight = slope_weight\n",
    "        self.normal_weight = normal_weight\n",
    "\n",
    "        voxel_size = 0.01\n",
    "        self.pcd = self.pcd.voxel_down_sample(voxel_size)\n",
    "        radius_normal = voxel_size * 10\n",
    "        self.pcd.estimate_normals(search_param=o3d.geometry.KDTreeSearchParamHybrid(radius=0.1, max_nn=100))\n",
    "        self.pcd_tree = o3d.geometry.KDTreeFlann(self.pcd)\n",
    "\n",
    "\n",
    "        \n",
    "        # Adjusting the orientations of the normals to be consistent with each other, based on local tangent planes.\n",
    "        self.pcd.orient_normals_consistent_tangent_plane(k=4)\n",
    "        self.pcd.normals = o3d.utility.Vector3dVector(-np.asarray(self.pcd.normals))\n",
    "\n",
    "    def calculate_slope(self, normals):\n",
    "        # Assuming that the normals are already normalized\n",
    "        # The slope can be calculated as the arccosine of the dot product\n",
    "        # of the normal with the Z-axis (0, 0, 1)\n",
    "        z_axis = np.array([0, 0, 1])\n",
    "        slopes = np.arccos(np.clip(np.dot(normals, z_axis), -1.0, 1.0))\n",
    "        return slopes\n",
    "\n",
    "    def calculate_slope(self, normals):\n",
    "        points = np.asarray(self.pcd.points)\n",
    "        normals = self.normalize(np.asarray(normals),type_of_normalization = \"minmax\")\n",
    "        \n",
    "        slopes = np.zeros(len(points))\n",
    "\n",
    "        for i, point in enumerate(points):\n",
    "            k, idx, _ = self.pcd_tree.search_radius_vector_3d(point, 0.2)\n",
    "\n",
    "            if k > 1:  # More than one point in the neighborhood\n",
    "                neighbors_normals = normals[idx, :]\n",
    "                current_normal = normals[i]\n",
    "\n",
    "                # Calculate dot product\n",
    "                dot_products = np.clip(np.dot(neighbors_normals, current_normal), -1.0, 1.0)\n",
    "                min_dot = np.min(dot_products)\n",
    "                slopes[i] = min_dot\n",
    "        \n",
    "        return slopes\n",
    "\n",
    "    def calculate_curvature(self):\n",
    "\n",
    "        # Placeholder for curvature values\n",
    "        curvature = np.zeros(len(np.asarray(self.pcd.points)))\n",
    "\n",
    "        for i, point in enumerate(self.pcd.points):\n",
    "            # Search for nearest neighbors of the given point\n",
    "            [k, idx, _] = self.pcd_tree.search_radius_vector_3d(point, 0.5)  # Radius \n",
    "            \n",
    "            # Calculate the covariance matrix of the neighborhood\n",
    "            if k < 3:\n",
    "                continue\n",
    "            \n",
    "            neighbors = np.asarray(self.pcd.points)[idx, :]\n",
    "            mean = np.mean(neighbors, axis=0)\n",
    "            covariance_matrix = np.cov((neighbors - mean).T)\n",
    "\n",
    "            # Eigen decomposition\n",
    "            eigen_values, _ = np.linalg.eigh(covariance_matrix)\n",
    "            eigen_values.sort()\n",
    "\n",
    "            # The curvature can be approximated as the ratio of the smallest\n",
    "            # to the sum of eigenvalues (Gaussian curvature approximation)\n",
    "            curvature[i] = eigen_values[0] / np.sum(eigen_values)\n",
    "        \n",
    "        return curvature\n",
    "\n",
    "    def normalize(self, data, type_of_normalization = \"standarization\"):\n",
    "        min_val = np.min(data)\n",
    "        max_val = np.max(data)\n",
    "        if type_of_normalization == \"minmax\":\n",
    "            return (data - min_val) / (max_val - min_val)\n",
    "        elif type_of_normalization == \"standarization\":\n",
    "            return (data - np.mean(data))/np.std(data)\n",
    "    \n",
    "    def segment(self):\n",
    "\n",
    "        type_of_normalization = \"minmax\"\n",
    "        \n",
    "        pcd_points = np.asarray(self.pcd.points)\n",
    "        normals = np.asarray(self.pcd.normals)\n",
    "\n",
    "        # Normalize the features\n",
    "        normals = self.normalize(normals, type_of_normalization = type_of_normalization)\n",
    "        min_z = np.min(pcd_points[:, 2])\n",
    "        relative_height = pcd_points[:, 2] - min_z\n",
    "        relative_height = self.normalize(relative_height, type_of_normalization = type_of_normalization)\n",
    "        slopes = self.calculate_slope(normals)\n",
    "        slopes = self.normalize(slopes, type_of_normalization = type_of_normalization)\n",
    "        x_norm = pcd_points[:, 0] #self.normalize(pcd_points[:, 0], type_of_normalization = type_of_normalization)\n",
    "        y_norm = pcd_points[:, 1] #self.normalize(pcd_points[:, 1], type_of_normalization = type_of_normalization)\n",
    "\n",
    "        # x_norm = self.normalize(pcd_points[:, 0], type_of_normalization = type_of_normalization)\n",
    "        # y_norm = self.normalize(pcd_points[:, 1], type_of_normalization = type_of_normalization)\n",
    "        \n",
    "        # Apply feature weights\n",
    "        relative_height *= self.height_weight\n",
    "        slopes *= self.slope_weight\n",
    "        normals *= self.normal_weight\n",
    "\n",
    "        # Combine features with weights applied\n",
    "        features = np.hstack((x_norm[:, np.newaxis],\n",
    "                              y_norm[:, np.newaxis],\n",
    "                              relative_height[:, np.newaxis],\n",
    "                              slopes[:, np.newaxis],\n",
    "                              normals))\n",
    "\n",
    "        # Apply K-Means\n",
    "        kmeans = KMeans(n_clusters=self.n_clusters)\n",
    "        kmeans.fit(features)\n",
    "\n",
    "        # Assign clusters\n",
    "        self.labels = kmeans.labels_\n",
    "        \n",
    "        return self.labels\n",
    "\n",
    "        # Normalize the features all at once\n",
    "        # features = (features - np.mean(features, axis=0)) / np.std(features, axis=0)\n",
    "\n",
    "        # Apply K-Means\n",
    "        kmeans = KMeans(n_clusters=self.n_clusters)\n",
    "        kmeans.fit(features)\n",
    "\n",
    "        # Assign clusters\n",
    "        self.labels = kmeans.labels_\n",
    "        \n",
    "        return self.labels\n",
    "\n",
    "\n",
    "    def visualize_segmentation(self):\n",
    "        max_label = self.labels.max()\n",
    "        colors = plt.get_cmap('viridis')(self.labels / (max_label if max_label > 0 else 1))\n",
    "        colors = colors[:, :3]  # remove the alpha channel\n",
    "        self.pcd.colors = o3d.utility.Vector3dVector(colors)\n",
    "        o3d.visualization.draw_geometries([self.pcd],\n",
    "                                          #point_show_normal = True\n",
    "                                         )"
   ]
  },
  {
   "cell_type": "code",
   "execution_count": 345,
   "id": "d76ef202-9f2e-469c-8d58-2515036d73ff",
   "metadata": {},
   "outputs": [
    {
     "name": "stdout",
     "output_type": "stream",
     "text": [
      "\u001b[1;33m[Open3D WARNING] GLFW Error: Cocoa: Failed to find service port for display\u001b[0;m\n"
     ]
    }
   ],
   "source": [
    "\n",
    "# Load your point cloud\n",
    "pcd = o3d.io.read_point_cloud(\"box_pbr/pbr91.pcd\")\n",
    "\n",
    "\n",
    "# Create an instance of the KMeansSegmentation class\n",
    "kmeans_segmentation = KMeansSegmentation(pcd, n_clusters=2,\n",
    "                                         #height_weight=2.5, slope_weight=2.0, normal_weight=3, #best for global slope and standardization\n",
    "                                         height_weight=6, slope_weight=6, normal_weight=2.5 #best for global slope and minmax\n",
    "                                        )\n",
    "\n",
    "# Perform K-Means segmentation\n",
    "segment_labels = kmeans_segmentation.segment()\n",
    "\n",
    "# kmeans_segmentation.post_process_segments(\n",
    "#     #cluster_size_threshold_ratio=0.15\n",
    "# )\n",
    "# Visualize the segmented point cloud\n",
    "kmeans_segmentation.visualize_segmentation()"
   ]
  },
  {
   "cell_type": "code",
   "execution_count": null,
   "id": "c3993ce7-2354-4c7f-80d9-309f6cbffccb",
   "metadata": {},
   "outputs": [],
   "source": []
  },
  {
   "cell_type": "code",
   "execution_count": 249,
   "id": "afcfc601-e8f6-4eda-9e46-d42060e16614",
   "metadata": {},
   "outputs": [
    {
     "data": {
      "text/plain": [
       "array([2.5, 2.5, 2.5, ..., 2.5, 2.5, 2.5])"
      ]
     },
     "execution_count": 249,
     "metadata": {},
     "output_type": "execute_result"
    }
   ],
   "source": [
    "np.linalg.norm(np.asarray(kmeans_segmentation.pcd.normals),axis = 1)"
   ]
  },
  {
   "cell_type": "code",
   "execution_count": null,
   "id": "be9ccdac-5a89-4132-ae4b-4ea393fe4450",
   "metadata": {},
   "outputs": [],
   "source": []
  },
  {
   "cell_type": "code",
   "execution_count": null,
   "id": "548ab7c2-e900-4abb-8ffd-7dd1bb4635e0",
   "metadata": {},
   "outputs": [],
   "source": []
  },
  {
   "cell_type": "code",
   "execution_count": 243,
   "id": "8081946b-e820-4ffa-acf4-c5235cd758d4",
   "metadata": {},
   "outputs": [
    {
     "name": "stdout",
     "output_type": "stream",
     "text": [
      "[-0.81285665 -0.80025564 -0.80025564 ...  0.97648644  0.97648644\n",
      "  1.00168846]\n"
     ]
    }
   ],
   "source": [
    "import laspy\n",
    "import numpy as np\n",
    "\n",
    "# Read LAS file\n",
    "pc = laspy.read(\"box_pbr/pbr42.las\")\n",
    "x = pc.x.scaled_array()\n",
    "x_mean = np.mean(x)\n",
    "y = pc.y.scaled_array()\n",
    "y_mean = np.mean(y)\n",
    "z = pc.z.scaled_array()\n",
    "z_mean = np.mean(z)\n",
    "r = np.uint8(pc.red/65535.*255)\n",
    "g = np.uint8(pc.green/65535.*255)\n",
    "b = np.uint8(pc.blue/65535.*255)\n",
    "rgb = np.vstack((r, g, b)).transpose()\n",
    "xyz = np.vstack((x-x_mean, y-y_mean, z-z_mean)).transpose()\n",
    "pcd = o3d.geometry.PointCloud()\n",
    "pcd.points = o3d.utility.Vector3dVector(xyz)\n",
    "pcd.colors = o3d.utility.Vector3dVector(rgb)\n",
    "\n",
    "# Example: Calculating global slopes (you need to adjust this part based on your actual function)\n",
    "pcd.estimate_normals(search_param=o3d.geometry.KDTreeSearchParamHybrid(radius=0.1, max_nn=100))\n",
    "pcd.orient_normals_consistent_tangent_plane(k=4)\n",
    "pcd.normals = o3d.utility.Vector3dVector(-np.asarray(pcd.normals))\n",
    "normals = np.asarray(pcd.normals)\n",
    "z_axis = np.array([0, 0, 1])\n",
    "\n",
    "pcd_points = np.asarray(pcd.points)\n",
    "min_z = np.min(pcd_points[:, 2])\n",
    "relative_height = pcd_points[:, 2] - min_z\n",
    "\n",
    "slopes = relative_height #np.arccos(np.clip(np.dot(normals, z_axis), -1.0, 1.0))\n",
    "slopes = (slopes-np.mean(slopes))/(np.std(slopes))\n",
    "print(slopes)\n",
    "\n",
    "# points = np.asarray(pcd.points)\n",
    "# slopes = np.zeros(len(points))\n",
    "# pcd_tree = o3d.geometry.KDTreeFlann(pcd)\n",
    "\n",
    "# for i, point in enumerate(points):\n",
    "#     k, idx, _ = pcd_tree.search_radius_vector_3d(point, 0.2)  # You can adjust the radius as necessary\n",
    "\n",
    "#     if k > 1:  # More than one point in the neighborhood\n",
    "#         neighbors_normals = normals[idx, :]\n",
    "#         current_normal = normals[i]\n",
    "\n",
    "#         # Calculate angular difference\n",
    "#         dot_products = np.clip(np.dot(neighbors_normals, current_normal), -1.0, 1.0)\n",
    "#         min_dot = np.min(dot_products)\n",
    "#         slopes[i] = min_dot\n",
    "\n",
    "\n",
    "# Normalize slopes to fit into the uint16 range\n",
    "slopes_normalized = np.interp(slopes, (np.min(slopes), np.max(slopes)), (0, 65535)).astype(np.uint16)\n",
    "\n",
    "# Assign slopes to the intensity channel\n",
    "pc.intensity = slopes_normalized\n",
    "\n",
    "# Write the modified LAS file\n",
    "pc.write(\"modified_file_global_slope_stand.las\")\n"
   ]
  },
  {
   "cell_type": "code",
   "execution_count": null,
   "id": "938c7153-1801-456c-a1a3-aefc6ffaf0bf",
   "metadata": {},
   "outputs": [],
   "source": []
  }
 ],
 "metadata": {
  "kernelspec": {
   "display_name": "Python 3 (ipykernel)",
   "language": "python",
   "name": "python3"
  },
  "language_info": {
   "codemirror_mode": {
    "name": "ipython",
    "version": 3
   },
   "file_extension": ".py",
   "mimetype": "text/x-python",
   "name": "python",
   "nbconvert_exporter": "python",
   "pygments_lexer": "ipython3",
   "version": "3.10.14"
  }
 },
 "nbformat": 4,
 "nbformat_minor": 5
}
