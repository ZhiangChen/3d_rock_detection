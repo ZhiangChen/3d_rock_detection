{
 "cells": [
  {
   "cell_type": "code",
   "execution_count": 1,
   "id": "a1b9a6f5-8e3a-412f-b490-5dd6670dbd47",
   "metadata": {},
   "outputs": [],
   "source": [
    "import open3d as o3d\n",
    "import numpy as np\n",
    "from collections import deque\n",
    "import pandas as pd"
   ]
  },
  {
   "cell_type": "code",
   "execution_count": 2,
   "id": "2818eb7e-15ef-4341-b1e7-7fc18238c1d3",
   "metadata": {},
   "outputs": [],
   "source": [
    "pcd = o3d.io.read_point_cloud(\"/Users/deeprodge/Downloads/pbr28.pcd\")"
   ]
  },
  {
   "cell_type": "code",
   "execution_count": 3,
   "id": "c5884040-0e2c-4024-b13d-665265c62346",
   "metadata": {},
   "outputs": [],
   "source": [
    "class RegionGrowingSegmentation:\n",
    "    def __init__(self, pcd, num_neighbors=30, smoothness_threshold=np.pi/4):\n",
    "        self.pcd = pcd\n",
    "        self.num_neighbors = num_neighbors\n",
    "        self.smoothness_threshold = smoothness_threshold\n",
    "        self.labels = np.array([-1] * len(pcd.points))  # -1 indicates unlabeled\n",
    "        self.normals = np.asarray(pcd.normals)\n",
    "        self.pcd_tree = o3d.geometry.KDTreeFlann(self.pcd)\n",
    "\n",
    "    def grow_region(self, starting_indices):\n",
    "        for region_index, starting_index in enumerate(starting_indices):\n",
    "            if self.labels[starting_index] != -1:  # If already labeled, skip\n",
    "                continue\n",
    "\n",
    "            queue = deque([starting_index])\n",
    "            self.labels[starting_index] = region_index\n",
    "\n",
    "            while queue:\n",
    "                current_index = queue.popleft()\n",
    "                current_normal = self.normals[current_index]\n",
    "\n",
    "                [k, idx, _] = self.pcd_tree.search_knn_vector_3d(self.pcd.points[current_index], self.num_neighbors)\n",
    "\n",
    "                for neighbor_index in idx[1:]:  # Skip the first index because it's the point itself\n",
    "                    if self.labels[neighbor_index] != -1:\n",
    "                        continue\n",
    "\n",
    "                    angle = np.arccos(np.clip(np.dot(current_normal, self.normals[neighbor_index]), -1.0, 1.0))\n",
    "\n",
    "                    if angle < self.smoothness_threshold:\n",
    "                        self.labels[neighbor_index] = region_index\n",
    "                        queue.append(neighbor_index)\n",
    "\n",
    "    def segment(self):\n",
    "        # Choose the lowest point as terrain seed\n",
    "        z_values = np.array(self.pcd.points)[:, 2]\n",
    "        terrain_seed = np.argmin(z_values)\n",
    "\n",
    "        # Choose a high point with potentially fewer neighbors as rock seed\n",
    "        potential_rock_seeds = np.where(z_values > np.percentile(z_values, 75))[0]\n",
    "        rock_seed = potential_rock_seeds[np.argmax(z_values[potential_rock_seeds])]\n",
    "        print(terrain_seed)\n",
    "        print(rock_seed)\n",
    "\n",
    "        # Temp code to check and locate seed in the point cloud\n",
    "        # self.labels[terrain_seed] = 1\n",
    "        # self.labels[rock_seed] = 1\n",
    "\n",
    "        self.grow_region([terrain_seed, rock_seed])\n",
    "\n",
    "        # Assign remaining unlabeled points to the nearest labeled point\n",
    "        unlabeled_points = np.where(self.labels == -1)[0]\n",
    "        for unlabeled_point in unlabeled_points:\n",
    "            [_, idx, _] = self.pcd_tree.search_knn_vector_3d(self.pcd.points[unlabeled_point], 1)\n",
    "            self.labels[unlabeled_point] = self.labels[idx[0]]\n",
    "\n",
    "        # Now, set any remaining unlabeled points to a default label (0 or 1). This should be rare.\n",
    "        self.labels[self.labels == -1] = 1\n",
    "\n",
    "        return self.labels\n"
   ]
  },
  {
   "cell_type": "code",
   "execution_count": 4,
   "id": "e75e61b0-31c2-4947-901e-9f5e03164cd1",
   "metadata": {},
   "outputs": [],
   "source": [
    "# Load point cloud\n",
    "pcd = o3d.io.read_point_cloud(\"/Users/deeprodge/Downloads/pbr28.pcd\")\n",
    "\n",
    "# Preprocess the point cloud to estimate normals\n",
    "pcd.estimate_normals(search_param=o3d.geometry.KDTreeSearchParamHybrid(radius=0.5, max_nn=100))\n"
   ]
  },
  {
   "cell_type": "code",
   "execution_count": 6,
   "id": "37b2fb9f-5289-46e2-b9d3-471403bd06aa",
   "metadata": {},
   "outputs": [
    {
     "name": "stdout",
     "output_type": "stream",
     "text": [
      "23401\n",
      "57596\n"
     ]
    }
   ],
   "source": [
    "# Create an instance of the RegionGrowingSegmentation class\n",
    "rgs = RegionGrowingSegmentation(pcd, num_neighbors=20, smoothness_threshold=np.pi/5)\n",
    "\n",
    "# Perform region growing segmentation\n",
    "segment_labels = rgs.segment()"
   ]
  },
  {
   "cell_type": "code",
   "execution_count": 7,
   "id": "395605c3-5528-441c-807c-4f44d3090ef5",
   "metadata": {},
   "outputs": [
    {
     "data": {
      "text/plain": [
       "array([0, 1])"
      ]
     },
     "execution_count": 7,
     "metadata": {},
     "output_type": "execute_result"
    }
   ],
   "source": [
    "np.unique(segment_labels)"
   ]
  },
  {
   "cell_type": "code",
   "execution_count": 8,
   "id": "83e4bb16-0a12-4d02-bbea-440e5d7155b1",
   "metadata": {},
   "outputs": [],
   "source": [
    "# Assign colors to points for each segment (blue for terrain, red for rock)\n",
    "colors = np.array([[0, 0, 1] if label == 0 else [1, 0, 0] for label in segment_labels])\n",
    "pcd.colors = o3d.utility.Vector3dVector(colors)"
   ]
  },
  {
   "cell_type": "code",
   "execution_count": 11,
   "id": "28dde2fe-38bd-4bd8-bc8e-4536c0d9077d",
   "metadata": {},
   "outputs": [
    {
     "name": "stdout",
     "output_type": "stream",
     "text": [
      "\u001b[1;33m[Open3D WARNING] GLFW Error: Cocoa: Failed to find service port for display\u001b[0;m\n"
     ]
    }
   ],
   "source": [
    "# Show the segmented point cloud\n",
    "o3d.visualization.draw_geometries([pcd])"
   ]
  },
  {
   "cell_type": "code",
   "execution_count": null,
   "id": "12cc088a-6c39-4524-81c2-38e6ffb47b64",
   "metadata": {},
   "outputs": [],
   "source": []
  },
  {
   "cell_type": "code",
   "execution_count": null,
   "id": "a32086cc-2115-44f2-81dd-87903c783d3e",
   "metadata": {},
   "outputs": [],
   "source": []
  }
 ],
 "metadata": {
  "kernelspec": {
   "display_name": "Python 3 (ipykernel)",
   "language": "python",
   "name": "python3"
  },
  "language_info": {
   "codemirror_mode": {
    "name": "ipython",
    "version": 3
   },
   "file_extension": ".py",
   "mimetype": "text/x-python",
   "name": "python",
   "nbconvert_exporter": "python",
   "pygments_lexer": "ipython3",
   "version": "3.10.14"
  }
 },
 "nbformat": 4,
 "nbformat_minor": 5
}
