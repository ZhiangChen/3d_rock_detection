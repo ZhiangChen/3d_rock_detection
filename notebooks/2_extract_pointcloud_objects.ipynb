{
 "cells": [
  {
   "cell_type": "markdown",
   "metadata": {
    "id": "-wOqOFLIv3D1"
   },
   "source": [
    "1. read .las pointcloud file\n",
    "2. convert the pointcloud to the reference local coordinates\n",
    "3. read bounding boxes\n",
    "5. enlarge bounding boxes\n",
    "6. crop points within enlarged bounding boxes\n",
    "7. write cropped pointcloud objects"
   ]
  },
  {
   "cell_type": "code",
   "execution_count": 1,
   "metadata": {
    "colab": {
     "base_uri": "https://localhost:8080/",
     "height": 1000
    },
    "executionInfo": {
     "elapsed": 38562,
     "status": "ok",
     "timestamp": 1635987390494,
     "user": {
      "displayName": "Zhiang Chen",
      "photoUrl": "https://lh3.googleusercontent.com/a-/AOh14Gjx1MzMxCPErV6uZ1fm_qWchx0_bovJ3Kc9IO8rwQ=s64",
      "userId": "14710434422152901796"
     },
     "user_tz": 420
    },
    "id": "V3iFqxv3ccDS",
    "outputId": "1d2f8b29-744c-4910-e571-adff1e0f7db5"
   },
   "outputs": [
    {
     "data": {
      "text/plain": [
       "'# google colab installation\\n!pip install open3d\\n!pip install laspy\\n!pip install pptk\\n'"
      ]
     },
     "execution_count": 1,
     "metadata": {},
     "output_type": "execute_result"
    }
   ],
   "source": [
    "\"\"\"# google colab installation\n",
    "!pip install open3d\n",
    "!pip install laspy\n",
    "!pip install pptk\n",
    "\"\"\""
   ]
  },
  {
   "cell_type": "code",
   "execution_count": 2,
   "metadata": {
    "colab": {
     "base_uri": "https://localhost:8080/"
    },
    "executionInfo": {
     "elapsed": 6484,
     "status": "ok",
     "timestamp": 1635987440512,
     "user": {
      "displayName": "Zhiang Chen",
      "photoUrl": "https://lh3.googleusercontent.com/a-/AOh14Gjx1MzMxCPErV6uZ1fm_qWchx0_bovJ3Kc9IO8rwQ=s64",
      "userId": "14710434422152901796"
     },
     "user_tz": 420
    },
    "id": "hqaDhKitqZ2y",
    "outputId": "5b0fac16-fd29-4bc0-a1d5-e1176bf0d7e0"
   },
   "outputs": [
    {
     "data": {
      "text/plain": [
       "'# for google colab \\nfrom google.colab import drive\\nimport laspy\\nimport numpy as np\\nimport os\\nimport open3d as o3d\\n\\ndrive.mount(\"/content/drive\")\\nos.chdir(\\'/content/drive/MyDrive/DREAMS - Zhiang/Projects/3D_rock_detection/data\\')\\nprint(os.listdir())\\n'"
      ]
     },
     "execution_count": 2,
     "metadata": {},
     "output_type": "execute_result"
    }
   ],
   "source": [
    "\"\"\"# for google colab \n",
    "from google.colab import drive\n",
    "import laspy\n",
    "import numpy as np\n",
    "import os\n",
    "import open3d as o3d\n",
    "\n",
    "drive.mount(\"/content/drive\")\n",
    "os.chdir('/content/drive/MyDrive/DREAMS - Zhiang/Projects/3D_rock_detection/data')\n",
    "print(os.listdir())\n",
    "\"\"\""
   ]
  },
  {
   "cell_type": "code",
   "execution_count": null,
   "metadata": {},
   "outputs": [],
   "source": [
    "import laspy\n",
    "import numpy as np\n",
    "import os\n",
    "import open3d as o3d\n",
    "\n",
    "os.chdir('/content/drive/MyDrive/DREAMS - Zhiang/Projects/3D_rock_detection/data')\n",
    "print(os.listdir())"
   ]
  },
  {
   "cell_type": "markdown",
   "metadata": {
    "id": "J31zgiBxpb5X"
   },
   "source": [
    "# read pointcloud .las"
   ]
  },
  {
   "cell_type": "code",
   "execution_count": null,
   "metadata": {
    "id": "_F0otZRSobQa"
   },
   "outputs": [],
   "source": [
    "pc = laspy.read('granite_dells_wgs_utm.las')"
   ]
  },
  {
   "cell_type": "code",
   "execution_count": null,
   "metadata": {
    "colab": {
     "base_uri": "https://localhost:8080/"
    },
    "executionInfo": {
     "elapsed": 5472,
     "status": "ok",
     "timestamp": 1635811027839,
     "user": {
      "displayName": "Zhiang Chen",
      "photoUrl": "https://lh3.googleusercontent.com/a-/AOh14Gjx1MzMxCPErV6uZ1fm_qWchx0_bovJ3Kc9IO8rwQ=s64",
      "userId": "14710434422152901796"
     },
     "user_tz": 420
    },
    "id": "QdOtdwOBoeiZ",
    "outputId": "60023879-515d-474b-8c60-43eed4cb1b18"
   },
   "outputs": [
    {
     "name": "stdout",
     "output_type": "stream",
     "text": [
      "369880.600594\n",
      "369970.394791\n",
      "3829104.674131\n",
      "3829197.061813\n",
      "-5.784746\n",
      "25.580458\n",
      "65280\n",
      "0\n",
      "65280\n",
      "0\n",
      "65280\n",
      "0\n"
     ]
    }
   ],
   "source": [
    "# WGS 84 & UTM 12N\n",
    "print(pc.x.scaled_array().min())\n",
    "print(pc.x.scaled_array().max())\n",
    "print(pc.y.scaled_array().min())\n",
    "print(pc.y.scaled_array().max())\n",
    "print(pc.z.scaled_array().min())\n",
    "print(pc.z.scaled_array().max())\n",
    "\n",
    "# color value has type of uint16\n",
    "print(pc.red.max())\n",
    "print(pc.red.min())\n",
    "print(pc.green.max())\n",
    "print(pc.green.min())\n",
    "print(pc.blue.max())\n",
    "print(pc.blue.min())"
   ]
  },
  {
   "cell_type": "markdown",
   "metadata": {
    "id": "eF31bPd3pfke"
   },
   "source": [
    "# read bounding box"
   ]
  },
  {
   "cell_type": "code",
   "execution_count": null,
   "metadata": {
    "colab": {
     "base_uri": "https://localhost:8080/"
    },
    "executionInfo": {
     "elapsed": 223,
     "status": "ok",
     "timestamp": 1635811028055,
     "user": {
      "displayName": "Zhiang Chen",
      "photoUrl": "https://lh3.googleusercontent.com/a-/AOh14Gjx1MzMxCPErV6uZ1fm_qWchx0_bovJ3Kc9IO8rwQ=s64",
      "userId": "14710434422152901796"
     },
     "user_tz": 420
    },
    "id": "ct5MjyCFpXOf",
    "outputId": "9f925976-06cc-4b27-eb8f-ca4a584d4edf"
   },
   "outputs": [
    {
     "name": "stdout",
     "output_type": "stream",
     "text": [
      "369920.6882544258 369924.83291339944 3829185.267451371 3829188.154320308\n"
     ]
    }
   ],
   "source": [
    "bboxes = np.load('pbr_bboxes_wgs_utm.npy')\n",
    "\n",
    "x1,y1,x2,y2 = bboxes[0]\n",
    "print(x1,x2,y1,y2)"
   ]
  },
  {
   "cell_type": "code",
   "execution_count": null,
   "metadata": {
    "id": "Iv1VbyVhpHg6"
   },
   "outputs": [],
   "source": [
    "def box_filter(las, x1, y1, x2, y2, padding=0.2):\n",
    "  x1 = x1 - padding\n",
    "  x2 = x2 + padding\n",
    "  y1 = y1 - padding\n",
    "  y2 = y2 + padding\n",
    "  xgood = (las.x >= x1) & (las.x < x2)\n",
    "  ygood = (las.y >= y1) & (las.y < y2)\n",
    "  good = xgood & ygood \n",
    "  found = (las.x.scaled_array()[good], las.y.scaled_array()[good], las.z.scaled_array()[good], las.red[good], las.green[good], las.blue[good])\n",
    "  return found"
   ]
  },
  {
   "cell_type": "code",
   "execution_count": null,
   "metadata": {
    "id": "5iOYWAodwpLQ"
   },
   "outputs": [],
   "source": [
    "def write_las_file(f, pt):\n",
    "  header = laspy.LasHeader(point_format=2, version=\"1.2\")\n",
    "  las = laspy.LasData(header)\n",
    "  las.x = pt[0]\n",
    "  las.y = pt[1]\n",
    "  las.z = pt[2]\n",
    "  las.red = pt[3]\n",
    "  las.green = pt[4]\n",
    "  las.blue = pt[5]\n",
    "  las.write('box_pbr/'+f)"
   ]
  },
  {
   "cell_type": "code",
   "execution_count": null,
   "metadata": {
    "id": "MVXfe6ppqZp7"
   },
   "outputs": [],
   "source": [
    "for id, bbox in enumerate(bboxes):\n",
    "  x1,y1,x2,y2 = bbox\n",
    "  pbr_pc = box_filter(pc, x1, y1, x2, y2)\n",
    "  write_las_file('pbr{i}.las'.format(i=id), pbr_pc)\n",
    "  print(id)"
   ]
  },
  {
   "cell_type": "markdown",
   "metadata": {
    "id": "rMqxH8TFVso1"
   },
   "source": [
    "## Convert .las to .pcd"
   ]
  },
  {
   "cell_type": "code",
   "execution_count": 3,
   "metadata": {
    "executionInfo": {
     "elapsed": 256,
     "status": "ok",
     "timestamp": 1635987520359,
     "user": {
      "displayName": "Zhiang Chen",
      "photoUrl": "https://lh3.googleusercontent.com/a-/AOh14Gjx1MzMxCPErV6uZ1fm_qWchx0_bovJ3Kc9IO8rwQ=s64",
      "userId": "14710434422152901796"
     },
     "user_tz": 420
    },
    "id": "4t-JqIeyUx9I"
   },
   "outputs": [],
   "source": [
    "las_files = ['box_pbr/' + f for f in os.listdir('box_pbr/') if f.endswith('.las')]"
   ]
  },
  {
   "cell_type": "code",
   "execution_count": 5,
   "metadata": {
    "executionInfo": {
     "elapsed": 290,
     "status": "ok",
     "timestamp": 1635987551951,
     "user": {
      "displayName": "Zhiang Chen",
      "photoUrl": "https://lh3.googleusercontent.com/a-/AOh14Gjx1MzMxCPErV6uZ1fm_qWchx0_bovJ3Kc9IO8rwQ=s64",
      "userId": "14710434422152901796"
     },
     "user_tz": 420
    },
    "id": "R6y4gxmZVG0p"
   },
   "outputs": [],
   "source": [
    "for las_file in las_files[:5]:\n",
    "  pc = laspy.read(las_file)\n",
    "  x = pc.x.scaled_array()\n",
    "  y = pc.y.scaled_array()\n",
    "  z = pc.z.scaled_array()\n",
    "  r = np.uint8(pc.red/65535.*255)\n",
    "  g = np.uint8(pc.green/65535.*255)\n",
    "  b = np.uint8(pc.blue/65535.*255)\n",
    "  rgb = np.vstack((r, g, b)).transpose()\n",
    "  xyz = np.vstack((x, y, z)).transpose()\n"
   ]
  },
  {
   "cell_type": "code",
   "execution_count": 12,
   "metadata": {
    "executionInfo": {
     "elapsed": 281,
     "status": "ok",
     "timestamp": 1635988847064,
     "user": {
      "displayName": "Zhiang Chen",
      "photoUrl": "https://lh3.googleusercontent.com/a-/AOh14Gjx1MzMxCPErV6uZ1fm_qWchx0_bovJ3Kc9IO8rwQ=s64",
      "userId": "14710434422152901796"
     },
     "user_tz": 420
    },
    "id": "ZNfeCd93WUEX"
   },
   "outputs": [],
   "source": [
    "\n",
    "pcd = o3d.geometry.PointCloud()\n",
    "pcd.points = o3d.utility.Vector3dVector(xyz)\n",
    "pcd.colors = o3d.utility.Vector3dVector(rgb)"
   ]
  },
  {
   "cell_type": "code",
   "execution_count": 13,
   "metadata": {
    "colab": {
     "base_uri": "https://localhost:8080/"
    },
    "executionInfo": {
     "elapsed": 297,
     "status": "ok",
     "timestamp": 1635988883818,
     "user": {
      "displayName": "Zhiang Chen",
      "photoUrl": "https://lh3.googleusercontent.com/a-/AOh14Gjx1MzMxCPErV6uZ1fm_qWchx0_bovJ3Kc9IO8rwQ=s64",
      "userId": "14710434422152901796"
     },
     "user_tz": 420
    },
    "id": "wAv1r8qeb9lq",
    "outputId": "93bbbf1d-cd7b-457b-8190-c1d8d64e9108"
   },
   "outputs": [
    {
     "data": {
      "text/plain": [
       "True"
      ]
     },
     "execution_count": 13,
     "metadata": {},
     "output_type": "execute_result"
    }
   ],
   "source": [
    "o3d.io.write_point_cloud(\"pbr.pcd\", pcd)"
   ]
  },
  {
   "cell_type": "code",
   "execution_count": null,
   "metadata": {
    "id": "9m-PH7TWj6bL"
   },
   "outputs": [],
   "source": []
  }
 ],
 "metadata": {
  "colab": {
   "authorship_tag": "ABX9TyO7S2mb8xyKfv2zLuf/5TFA",
   "name": "2_extract_pointcloud_objects.ipynb",
   "provenance": []
  },
  "kernelspec": {
   "display_name": "Python 3 (ipykernel)",
   "language": "python",
   "name": "python3"
  },
  "language_info": {
   "codemirror_mode": {
    "name": "ipython",
    "version": 3
   },
   "file_extension": ".py",
   "mimetype": "text/x-python",
   "name": "python",
   "nbconvert_exporter": "python",
   "pygments_lexer": "ipython3",
   "version": "3.7.5"
  }
 },
 "nbformat": 4,
 "nbformat_minor": 1
}
