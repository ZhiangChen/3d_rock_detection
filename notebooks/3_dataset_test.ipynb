{
 "cells": [
  {
   "cell_type": "code",
   "execution_count": 1,
   "id": "518c8b69",
   "metadata": {},
   "outputs": [],
   "source": [
    "import sys\n",
    "import os\n",
    "path = os.path.abspath(os.path.join(os.getcwd(), os.pardir))\n",
    "if path not in sys.path:\n",
    "    sys.path.insert(0, path)"
   ]
  },
  {
   "cell_type": "code",
   "execution_count": 2,
   "id": "d85e61ee",
   "metadata": {},
   "outputs": [],
   "source": [
    "from omegaconf import OmegaConf\n",
    "import pyvista as pv\n",
    "import torch\n",
    "import numpy as np"
   ]
  },
  {
   "cell_type": "code",
   "execution_count": 3,
   "id": "945b9f71",
   "metadata": {},
   "outputs": [
    {
     "data": {
      "text/plain": [
       "0"
      ]
     },
     "execution_count": 3,
     "metadata": {},
     "output_type": "execute_result"
    }
   ],
   "source": [
    "# visualization configuration\n",
    "os.environ[\"DISPLAY\"] = \":1.0\"\n",
    "os.environ[\"PYVISTA_OFF_SCREEN\"]=\"true\"\n",
    "os.environ[\"PYVISTA_PLOT_THEME\"]=\"true\"\n",
    "os.environ[\"PYVISTA_USE_PANEL\"]=\"true\"\n",
    "os.environ[\"PYVISTA_AUTO_CLOSE\"]=\"false\"\n",
    "os.system(\"Xvfb :1 -screen 0 1024x768x24 > /dev/null 2>&1 &\")"
   ]
  },
  {
   "cell_type": "markdown",
   "id": "d72dca20",
   "metadata": {},
   "source": [
    "## Check your raw data"
   ]
  },
  {
   "cell_type": "code",
   "execution_count": 4,
   "id": "fe0ba43c",
   "metadata": {},
   "outputs": [],
   "source": [
    "import json\n",
    "import laspy\n",
    "\n",
    "raw_path = 'data/rocklas/raw'\n",
    "for i, split in enumerate([\"train\", \"valid\", \"test\"]):\n",
    "    json_path = os.path.join(raw_path, f\"{split}_split.json\")\n",
    "    with open(json_path, \"r\") as f:\n",
    "        filenames = json.load(f)\n",
    "    las_files = [os.path.join(raw_path, f) for f in filenames]\n",
    "    for las_file in las_files:\n",
    "        las = laspy.read(las_file)"
   ]
  },
  {
   "cell_type": "code",
   "execution_count": 5,
   "id": "5b5832d1",
   "metadata": {},
   "outputs": [
    {
     "name": "stdout",
     "output_type": "stream",
     "text": [
      "X\n",
      "Y\n",
      "Z\n",
      "intensity\n",
      "return_number\n",
      "number_of_returns\n",
      "scan_direction_flag\n",
      "edge_of_flight_line\n",
      "classification\n",
      "synthetic\n",
      "key_point\n",
      "withheld\n",
      "scan_angle_rank\n",
      "user_data\n",
      "point_source_id\n",
      "red\n",
      "green\n",
      "blue\n",
      "notPBR\n",
      "Original cloud index\n",
      "isPBR\n",
      "65280\n",
      "0\n",
      "65280\n",
      "0\n",
      "62464\n",
      "0\n"
     ]
    }
   ],
   "source": [
    "for i in las.point_format:\n",
    "    print(i.name)\n",
    "    \n",
    "# points with real local coordinates\n",
    "las.x.scaled_array().min()\n",
    "las.x.scaled_array().max()\n",
    "las.y.scaled_array().min()\n",
    "las.y.scaled_array().max()\n",
    "las.z.scaled_array().min()\n",
    "las.z.scaled_array().max()\n",
    "\n",
    "# color value has type of uint16\n",
    "print(las.red.max())\n",
    "print(las.red.min())\n",
    "print(las.green.max())\n",
    "print(las.green.min())\n",
    "print(las.blue.max())\n",
    "print(las.blue.min())\n"
   ]
  },
  {
   "cell_type": "markdown",
   "id": "bd62c5f6",
   "metadata": {},
   "source": [
    "## Test dataloading script"
   ]
  },
  {
   "cell_type": "code",
   "execution_count": 4,
   "id": "6e64b3d7",
   "metadata": {},
   "outputs": [],
   "source": [
    "DIR = \"\" # Replace with your root directory, the data will go in DIR/data.\n",
    "USE_COLOR = True #@param {type:\"boolean\"}"
   ]
  },
  {
   "cell_type": "code",
   "execution_count": 52,
   "id": "9b3a405a",
   "metadata": {},
   "outputs": [],
   "source": [
    "pbr_yaml = \"\"\"\n",
    "dataset_name: rock_las                         # dataset name\n",
    "dataroot: %s\n",
    "color: %r                                     # Use color vectors as features\n",
    "class: None # shapenet.ShapeNetDataset\n",
    "task: segmentation\n",
    "first_subsampling: 0.02                      # Grid size of the input data\n",
    "pre_transforms:                               # Offline transforms, done only once         \n",
    "    - transform: GridSampling3D\n",
    "      params:\n",
    "        size: ${first_subsampling}\n",
    "train_transforms:                             # Data augmentation pipeline\n",
    "    - transform: RandomNoise\n",
    "      params:\n",
    "        sigma: 0.01\n",
    "        clip: 0.05\n",
    "    - transform: RandomScaleAnisotropic\n",
    "      params:\n",
    "        scales: [0.9,1.1]\n",
    "    - transform: AddOnes\n",
    "    - transform: AddFeatsByKeys\n",
    "      params:\n",
    "        list_add_to_x: [True]\n",
    "        feat_names: [\"ones\"]\n",
    "        delete_feats: [True]\n",
    "test_transforms:\n",
    "    - transform: AddOnes\n",
    "    - transform: AddFeatsByKeys\n",
    "      params:\n",
    "        list_add_to_x: [True]\n",
    "        feat_names: [\"ones\"]\n",
    "        delete_feats: [True]\n",
    "\"\"\" % (os.path.join(DIR,\"data\"), USE_COLOR) \n",
    "\n",
    "\n",
    "from omegaconf import OmegaConf\n",
    "params = OmegaConf.create(pbr_yaml)\n"
   ]
  },
  {
   "cell_type": "code",
   "execution_count": 53,
   "id": "7b371ac0",
   "metadata": {},
   "outputs": [],
   "source": [
    "from rock_detection_3d.datasets.segmentation.rock_las import RockLASDataset"
   ]
  },
  {
   "cell_type": "code",
   "execution_count": 54,
   "id": "cdd0e685",
   "metadata": {
    "scrolled": false
   },
   "outputs": [
    {
     "data": {
      "text/plain": [
       "Dataset: RockLASDataset \n",
       "\u001b[0;95mtrain_pre_batch_collate_transform \u001b[0m= None\n",
       "\u001b[0;95mval_pre_batch_collate_transform \u001b[0m= None\n",
       "\u001b[0;95mtest_pre_batch_collate_transform \u001b[0m= None\n",
       "\u001b[0;95mpre_transform \u001b[0m= Compose([\n",
       "    GridSampling3D(grid_size=0.02, quantize_coords=False, mode=mean),\n",
       "])\n",
       "\u001b[0;95mtest_transform \u001b[0m= Compose([\n",
       "    AddOnes(),\n",
       "    AddFeatsByKeys(ones=True),\n",
       "])\n",
       "\u001b[0;95mtrain_transform \u001b[0m= Compose([\n",
       "    RandomNoise(sigma=0.01, clip=0.05),\n",
       "    RandomScaleAnisotropic([0.9, 1.1]),\n",
       "    AddOnes(),\n",
       "    AddFeatsByKeys(ones=True),\n",
       "])\n",
       "\u001b[0;95mval_transform \u001b[0m= None\n",
       "\u001b[0;95minference_transform \u001b[0m= Compose([\n",
       "    GridSampling3D(grid_size=0.02, quantize_coords=False, mode=mean),\n",
       "    AddOnes(),\n",
       "    AddFeatsByKeys(ones=True),\n",
       "])\n",
       "Size of \u001b[0;95mtrain_dataset \u001b[0m= 29\n",
       "Size of \u001b[0;95mtest_dataset \u001b[0m= 10\n",
       "Size of \u001b[0;95mval_dataset \u001b[0m= 10\n",
       "\u001b[0;95mBatch size =\u001b[0m None"
      ]
     },
     "execution_count": 54,
     "metadata": {},
     "output_type": "execute_result"
    }
   ],
   "source": [
    "dataset = RockLASDataset(params)\n",
    "dataset"
   ]
  },
  {
   "cell_type": "code",
   "execution_count": 56,
   "id": "d1c90606",
   "metadata": {},
   "outputs": [
    {
     "data": {
      "application/vnd.jupyter.widget-view+json": {
       "model_id": "a7da27705d42432290dae449aa77a55b",
       "version_major": 2,
       "version_minor": 0
      },
      "text/plain": [
       "ViewInteractiveWidget(height=412, layout=Layout(height='auto', width='100%'), width=1024)"
      ]
     },
     "metadata": {},
     "output_type": "display_data"
    }
   ],
   "source": [
    "#@title Plot samples with part annotations { run: \"auto\" }\n",
    "objectid_1 = 0 #@param {type:\"slider\", min:0, max:100, step:1}\n",
    "objectid_2 = 1 #@param {type:\"slider\", min:0, max:100, step:1}\n",
    "objectid_3 = 2 #@param {type:\"slider\", min:0, max:100, step:1}\n",
    "\n",
    "samples = [objectid_1,objectid_2,objectid_3]\n",
    "p = pv.Plotter(notebook=True,shape=(1, len(samples)),window_size=[1024,412])\n",
    "for i in range(len(samples)):\n",
    "    p.subplot(0, i)\n",
    "    sample = dataset.train_dataset[samples[i]]\n",
    "    point_cloud = pv.PolyData(sample.pos.numpy())\n",
    "    point_cloud['y'] = sample.y.numpy()\n",
    "    p.add_points(point_cloud,  show_scalar_bar=False, point_size=4)\n",
    "    p.camera_position = [-1,5, -10]\n",
    "p.show()"
   ]
  },
  {
   "cell_type": "code",
   "execution_count": 11,
   "id": "257f2a36",
   "metadata": {},
   "outputs": [
    {
     "data": {
      "application/vnd.jupyter.widget-view+json": {
       "model_id": "c2973f4de0d74e3e8f1e375f6e40467f",
       "version_major": 2,
       "version_minor": 0
      },
      "text/plain": [
       "ViewInteractiveWidget(height=412, layout=Layout(height='auto', width='100%'), width=1024)"
      ]
     },
     "metadata": {},
     "output_type": "display_data"
    }
   ],
   "source": [
    "#@title Plot samples with part annotations { run: \"auto\" }\n",
    "objectid_1 = 6 #@param {type:\"slider\", min:0, max:100, step:1}\n",
    "objectid_2 = 7 #@param {type:\"slider\", min:0, max:100, step:1}\n",
    "objectid_3 = 8 #@param {type:\"slider\", min:0, max:100, step:1}\n",
    "\n",
    "samples = [objectid_1,objectid_2,objectid_3]\n",
    "p = pv.Plotter(notebook=True,shape=(1, len(samples)),window_size=[1024,412])\n",
    "for i in range(len(samples)):\n",
    "    p.subplot(0, i)\n",
    "    sample = dataset.test_dataset[0][samples[i]]  # somehow, test_dataset is a list\n",
    "    point_cloud = pv.PolyData(sample.pos.numpy())\n",
    "    point_cloud['y'] = sample.y.numpy()\n",
    "    p.add_points(point_cloud,  show_scalar_bar=False, point_size=4)\n",
    "    p.camera_position = [-1,5, -10]\n",
    "p.show()"
   ]
  },
  {
   "cell_type": "code",
   "execution_count": 12,
   "id": "feb5181c",
   "metadata": {},
   "outputs": [
    {
     "name": "stdout",
     "output_type": "stream",
     "text": [
      "Data(category=[9111], center=[3], file_name=\"pbr122.las\", grid_size=[1], id_scan=[1], origin_id=[9111], pos=[9111, 3], scale=[1], x=[9111, 4], y=[9111])\n",
      "<LasData(1.2, point fmt: <PointFormat(2, 24 bytes of extra dims)>, 2677 points, 1 vlrs)>\n"
     ]
    }
   ],
   "source": [
    "print(dataset.train_dataset[1])\n",
    "las_file = os.path.join(raw_path, 'pbr12.las')\n",
    "las = laspy.read(las_file)\n",
    "print(las)"
   ]
  },
  {
   "cell_type": "code",
   "execution_count": 17,
   "id": "26f9d630",
   "metadata": {},
   "outputs": [
    {
     "data": {
      "text/plain": [
       "Data(category=[12384], center=[3], file_name=\"pbr116.las\", grid_size=[1], id_scan=[1], origin_id=[12384], pos=[12384, 3], scale=[1], x=[12384, 4], y=[12384])"
      ]
     },
     "execution_count": 17,
     "metadata": {},
     "output_type": "execute_result"
    }
   ],
   "source": [
    "dataset.test_dataset[0][0]"
   ]
  },
  {
   "cell_type": "code",
   "execution_count": 14,
   "id": "9d1c7650",
   "metadata": {},
   "outputs": [
    {
     "data": {
      "text/plain": [
       "tensor([[ 1.0750,  0.7057, -0.7976],\n",
       "        [ 1.0451,  0.6248, -0.7792],\n",
       "        [ 1.0211,  0.6682, -0.7754],\n",
       "        ...,\n",
       "        [-1.0732, -0.7998,  0.5772],\n",
       "        [-1.0957, -0.7811,  0.5852],\n",
       "        [-1.0892, -0.7882,  0.5893]])"
      ]
     },
     "execution_count": 14,
     "metadata": {},
     "output_type": "execute_result"
    }
   ],
   "source": [
    "dataset.train_dataset[0].pos"
   ]
  },
  {
   "cell_type": "code",
   "execution_count": 15,
   "id": "f7bfcaae",
   "metadata": {},
   "outputs": [
    {
     "data": {
      "text/plain": [
       "tensor([[ 0.9939,  0.8073, -0.9157],\n",
       "        [ 0.9698,  0.6967, -0.8897],\n",
       "        [ 0.9390,  0.7313, -0.8854],\n",
       "        ...,\n",
       "        [-0.9963, -0.9256,  0.6848],\n",
       "        [-1.0076, -0.8618,  0.6913],\n",
       "        [-1.0003, -0.8856,  0.6789]])"
      ]
     },
     "execution_count": 15,
     "metadata": {},
     "output_type": "execute_result"
    }
   ],
   "source": [
    "dataset.train_dataset[0].pos"
   ]
  },
  {
   "cell_type": "code",
   "execution_count": 18,
   "id": "c1eaf05e",
   "metadata": {},
   "outputs": [
    {
     "data": {
      "text/plain": [
       "Data(category=[21475], center=[3], file_name=\"pbr10.las\", grid_size=[1], id_scan=[1], origin_id=[21475], pos=[21475, 3], scale=[1], x=[21475, 4], y=[21475])"
      ]
     },
     "execution_count": 18,
     "metadata": {},
     "output_type": "execute_result"
    }
   ],
   "source": [
    "dataset.val_dataset[0]"
   ]
  },
  {
   "cell_type": "code",
   "execution_count": null,
   "id": "98ebbc00",
   "metadata": {},
   "outputs": [],
   "source": []
  }
 ],
 "metadata": {
  "kernelspec": {
   "display_name": "Python 3 (ipykernel)",
   "language": "python",
   "name": "python3"
  },
  "language_info": {
   "codemirror_mode": {
    "name": "ipython",
    "version": 3
   },
   "file_extension": ".py",
   "mimetype": "text/x-python",
   "name": "python",
   "nbconvert_exporter": "python",
   "pygments_lexer": "ipython3",
   "version": "3.7.5"
  }
 },
 "nbformat": 4,
 "nbformat_minor": 5
}
