{
 "cells": [
  {
   "cell_type": "code",
   "execution_count": 1,
   "id": "fe2ce672",
   "metadata": {},
   "outputs": [],
   "source": [
    "import pickle\n",
    "import os\n",
    "import numpy as np\n",
    "import rioxarray\n",
    "import cv2\n",
    "import geopandas as gpd\n",
    "import pandas as pd\n",
    "from pyproj import CRS\n",
    "from shapely.geometry import Polygon\n",
    "from shapely.ops import cascaded_union, unary_union\n",
    "from tqdm import tqdm\n",
    "import time\n",
    "from random import shuffle"
   ]
  },
  {
   "cell_type": "markdown",
   "id": "ccb9ad23",
   "metadata": {},
   "source": [
    "## Algorithm II: Instance Registration\n",
    "\n",
    "Data structure: \n",
    "1. Each tile is noted with two spatial indices, i and j, which can be used to find its adjacent tiles.\n",
    "2. Rocks are grouped by tiles and rocks' locations in a tile. Also, each rock is linked with its location and tile indices. Thus the indexing order is as follows: tile indices -> location -> rock index -> rock -> location & tile indices\n",
    "\n",
    "Pseudo code:\n",
    "```\n",
    "for instance in instance:\n",
    "    location, tile_indices = get_location_in_tile(instance)\n",
    "    if location is not in tile_overlap:\n",
    "        register(instance)\n",
    "    else:\n",
    "        adjacent_tiles = compute_adjacent_tiles(tile_indices)\n",
    "        for adjacent_tile in adjacent_tiles:\n",
    "            for adjacent_instance in adjacent_tile:\n",
    "                if overlap_bbox(instance, adjacent_instance) > bbox_threshold:\n",
    "                    if overlap_polygon(instance, adjacent_instance) > polygon_threshold:\n",
    "                        merge(instance, adjacent_tile)\n",
    "                        next instance # return\n",
    "        register(instance)\n",
    "```"
   ]
  },
  {
   "cell_type": "code",
   "execution_count": 2,
   "id": "a2a842c4",
   "metadata": {},
   "outputs": [],
   "source": [
    "class Instance_Registration(object):\n",
    "    def __init__(self, instance_dir, \n",
    "                 save_shapefile,\n",
    "                 tile_overlap_ratio=0.1, \n",
    "                 detection_threshold=0.75, \n",
    "                 segmentation_threshold=0.5, \n",
    "                 mask_overlap_threshold=0.1, \n",
    "                 disable_merge=False):\n",
    "        \n",
    "        assert os.path.exists(instance_dir)\n",
    "        self.tile_files = [os.path.join(instance_dir, f) for f in os.listdir(instance_dir) if f.endswith('.pickle')]\n",
    "        self.tiles = {}\n",
    "        self.instances = []  # \n",
    "        tile_data = self._get_instance(self.tile_files[0])\n",
    "        _, _, self.h, self.w = tile_data['masks'].shape\n",
    "        tif_name = tile_data['image_name']\n",
    "        tif = rioxarray.open_rasterio(tif_name)\n",
    "        epsg = tif.rio.crs.to_epsg()\n",
    "        self.crs = CRS(epsg)\n",
    "        _, self.tiff_h, self.tiff_w = tif.shape\n",
    "        self.tif_h_size, self.tif_v_size = tif.rio.resolution()\n",
    "        self.mask_h_size = self.tif_h_size * self.tiff_h / self.h\n",
    "        self.mask_v_size = self.tif_v_size * self.tiff_w / self.w\n",
    "        self.overlap = self.h * tile_overlap_ratio\n",
    "        self.mask_overlap = mask_overlap_threshold\n",
    "        dir_path = os.path.dirname(os.path.realpath(tif_name))\n",
    "        tif_name = os.path.join(dir_path, '0_0.tif')\n",
    "        assert os.path.isfile(tif_name)\n",
    "        tif = rioxarray.open_rasterio(tif_name)\n",
    "        self.h_start, self.v_start, _, _= tif.rio.bounds()\n",
    "        self.save_shapefile = save_shapefile\n",
    "        self.detection_threshold = detection_threshold\n",
    "        self.segmentation_threshold = segmentation_threshold\n",
    "        self.disable_merge = disable_merge\n",
    "        \n",
    "        \n",
    "    def start_registration(self):\n",
    "        updated_tile_files = []\n",
    "        timestamps = []\n",
    "        self.instances = []\n",
    "        self.tiles = {}\n",
    "        print(\"Instance registration: \")\n",
    "        start_time = time.time()\n",
    "        for tile_file in tqdm(self.tile_files):\n",
    "            tile_data = self._get_instance(tile_file)\n",
    "            masks = tile_data['masks']\n",
    "            instance_N = masks.shape[0]\n",
    "            if instance_N == 0:\n",
    "                continue\n",
    "            updated_tile_files.append(tile_file)\n",
    "            masks = np.squeeze(masks, axis=1)\n",
    "            tif_name = tile_data['image_name']\n",
    "            tile_indices = tuple([int(i) for i in tif_name.split('/')[-1].split('.')[0].split('_')])\n",
    "            # post processing: detection confidence filter\n",
    "            detect_scores = tile_data['scores']\n",
    "            # prune data by detection_threshold\n",
    "            masks = masks[detect_scores>self.detection_threshold]\n",
    "            detect_scores = detect_scores[detect_scores>self.detection_threshold]\n",
    "            for idx, mask in enumerate(masks):\n",
    "                # post processing: segmentation confidence filter\n",
    "                mask = mask > self.segmentation_threshold\n",
    "                # post processing: contour analysis\n",
    "                contours, _ = cv2.findContours(mask.astype(np.uint8).copy(), cv2.RETR_TREE, cv2.CHAIN_APPROX_NONE)\n",
    "                if len(contours) > 1:\n",
    "                    areas = [cv2.contourArea(cnt) for cnt in contours]\n",
    "                    i = np.argmax(areas)\n",
    "                    contour = contours[i]\n",
    "                    mask = np.zeros_like(mask).astype(np.uint8)\n",
    "                    cv2.fillPoly(mask, pts =[contour], color=(255))\n",
    "                    local_mask = mask > 0\n",
    "                else:\n",
    "                    contour = contours[0]\n",
    "                    local_mask = mask\n",
    "                # get location using pixel coords: top, bottom, left, right, middle\n",
    "                contour = np.squeeze(contour, axis=1)\n",
    "                locations = self._get_locations(contour)\n",
    "                # convert masks to global mask\n",
    "                global_mask = self._convert_global_mask(local_mask, tile_indices)\n",
    "                # get global bbox\n",
    "                global_bbox = self._get_global_bbox(global_mask)\n",
    "                # instance registration\n",
    "                instance = {'locations': locations, \n",
    "                            'tile_indices': tile_indices,\n",
    "                            'score': detect_scores[idx], \n",
    "                            'global_bbox': global_bbox, \n",
    "                            'global_mask': global_mask}\n",
    "                if self.disable_merge:\n",
    "                    self.instances.append(instance)\n",
    "                else:\n",
    "                    self._instance_registration(instance)\n",
    "            timestamps.append(time.time() - start_time)\n",
    "                \n",
    "        print(\"Instance #: \", len(self.instances))\n",
    "        return updated_tile_files, timestamps\n",
    "    \n",
    "    \n",
    "    def update_tile_files(self, updated_tile_files):\n",
    "        self.tile_files = updated_tile_files\n",
    "    \n",
    "                \n",
    "    def save(self):\n",
    "        print('save shapefile: ')\n",
    "        dataframesList = []\n",
    "        for instance in tqdm(self.instances):\n",
    "            geodataframe = gpd.GeoDataFrame(pd.DataFrame({'score': [instance['score']]}), \n",
    "                                           crs=self.crs, \n",
    "                                           geometry=[self._convert_mask_to_poly(instance)]) \n",
    "            dataframesList.append(geodataframe)\n",
    "        rdf = gpd.GeoDataFrame(pd.concat(dataframesList, ignore_index=True))\n",
    "        rdf.to_file(self.save_shapefile)\n",
    "                \n",
    "    def _instance_registration(self, instance):\n",
    "        if 'middle' in instance['locations']:\n",
    "            self._add_instance(instance)\n",
    "            return None\n",
    "        \n",
    "        (x, y) = instance['tile_indices']\n",
    "        merged = False\n",
    "        for location in instance['locations']:\n",
    "            if location == 'left':\n",
    "                adjacent_indices = (x-1, y)\n",
    "                adjacent_location = 'right'\n",
    "                merged = merged | self._merge_instance(instance, location, adjacent_indices, adjacent_location)\n",
    "            elif location == 'right':\n",
    "                adjacent_indices = (x+1, y)\n",
    "                adjacent_location = 'left'\n",
    "                merged = merged | self._merge_instance(instance, location, adjacent_indices, adjacent_location)\n",
    "            elif location == 'top':\n",
    "                adjacent_indices = (x, y+1)\n",
    "                adjacent_location = 'bottom'\n",
    "                merged = merged | self._merge_instance(instance, location, adjacent_indices, adjacent_location)\n",
    "            elif location == 'bottom':\n",
    "                adjacent_indices = (x, y-1)\n",
    "                adjacent_location = 'top'\n",
    "                merged = merged | self._merge_instance(instance, location, adjacent_indices, adjacent_location)\n",
    "        \n",
    "        if not merged:\n",
    "            self._add_instance(instance)\n",
    "                \n",
    "    def _add_instance(self, instance):\n",
    "        self.instances.append(instance)\n",
    "        instance_id = len(self.instances) - 1\n",
    "        # update tile table\n",
    "        if not self.tiles.get(instance['tile_indices'], False):\n",
    "            # initialize tile\n",
    "            empty_locations = {'left':[], 'right':[], 'top':[], 'bottom':[], 'middle':[]}\n",
    "            self.tiles[instance['tile_indices']] = empty_locations\n",
    "        # update tile\n",
    "        for location in instance['locations']:\n",
    "            self.tiles[instance['tile_indices']][location].append(instance_id)\n",
    "                        \n",
    "    def _merge_instance(self, instance, location, adjacent_indices, adjacent_location):\n",
    "        if not self.tiles.get(adjacent_indices, False): \n",
    "            return False\n",
    "        else:\n",
    "            for adjacent_id in self.tiles[adjacent_indices][adjacent_location]:\n",
    "                adjacent_instance = self.instances[adjacent_id]\n",
    "                if self._bbox_intersection(instance['global_bbox'], adjacent_instance['global_bbox']):\n",
    "                    overlap = self._mask_intersection_hash_method(instance['global_mask'], adjacent_instance['global_mask'])\n",
    "                    #print(overlap)\n",
    "                    #print(self._mask_intersection_brute_force_method(instance['global_mask'], adjacent_instance['global_mask']))\n",
    "                    if overlap > self.mask_overlap:        \n",
    "                        merged_mask = np.concatenate((instance['global_mask'], adjacent_instance['global_mask']))\n",
    "                        merged_mask = np.unique(merged_mask, axis=0)\n",
    "                        merged_mask = tuple(map(tuple, merged_mask))\n",
    "\n",
    "                        self.instances[adjacent_id]['global_mask'] = merged_mask\n",
    "                        self.instances[adjacent_id]['global_bbox'] = self._get_global_bbox(merged_mask)\n",
    "                        self.instances[adjacent_id]['score'] = np.max((self.instances[adjacent_id]['score'], instance['score']))\n",
    "                        \n",
    "                        # tile is also expanded as instance merge\n",
    "                        if not self.tiles.get(instance['tile_indices'], False):\n",
    "                            empty_locations = {'left':[], 'right':[], 'top':[], 'bottom':[], 'middle':[]}\n",
    "                            self.tiles[instance['tile_indices']] = empty_locations\n",
    "                        for location in instance['locations']:\n",
    "                            self.tiles[instance['tile_indices']][location].append(adjacent_id)\n",
    "                            \n",
    "                        return True\n",
    "        return False\n",
    "    \n",
    "\n",
    "    \n",
    "    \n",
    "    def _mask_intersection_hash_method(self, mask1, mask2):\n",
    "        mask_hash1 = [hash(mask_indices) for mask_indices in mask1]\n",
    "        mask_hash2 = [hash(mask_indices) for mask_indices in mask2]\n",
    "        return -np.count_nonzero(np.in1d(mask_hash1, mask_hash2, assume_unique=True)) * self.mask_h_size * self.mask_v_size\n",
    "    \n",
    "    def _mask_intersection_brute_force_method(self, mask1, mask2):\n",
    "        overlap = len([px for px in mask1 if px in mask2])\n",
    "        return -overlap * self.mask_h_size * self.mask_v_size\n",
    "    \n",
    "        \n",
    "    def _convert_global_mask(self, mask, tile_indices):\n",
    "        x = tile_indices[0] * (self.w - self.overlap)\n",
    "        y = tile_indices[1] * (self.h - self.overlap) + self.h\n",
    "        return tuple([(x+i, y-j) for j,i in np.asarray(np.nonzero(mask)).transpose()])\n",
    "    \n",
    "    def _get_global_bbox(self, mask):\n",
    "        xmin, ymin = np.asarray(mask).min(axis=0)\n",
    "        xmax, ymax = np.asarray(mask).max(axis=0)\n",
    "        return [xmin, ymin, xmax, ymax]\n",
    "    \n",
    "    def _bbox_intersection(self, bbox1, bbox2):\n",
    "        (xmin_a, ymin_a, xmax_a, ymax_a) = bbox1\n",
    "        (xmin_b, ymin_b, xmax_b, ymax_b) = bbox2\n",
    "        if xmin_a < xmax_b <= xmax_a and (ymin_a < ymax_b <= ymax_a or ymin_a <= ymin_b < ymax_a):\n",
    "            return True\n",
    "        elif xmin_a <= xmin_b < xmax_a and (ymin_a < ymax_b <= ymax_a or ymin_a <= ymin_b < ymax_a):\n",
    "            return True\n",
    "        elif xmin_b < xmax_a <= xmax_b and (ymin_b < ymax_a <= ymax_b or ymin_b <= ymin_a < ymax_b):\n",
    "            return True\n",
    "        elif xmin_b <= xmin_a < xmax_b and (ymin_b < ymax_a <= ymax_b or ymin_b <= ymin_a < ymax_b):\n",
    "            return True\n",
    "        else:\n",
    "            return False\n",
    "        \n",
    "    def _get_instance(self, tile_file):\n",
    "        with open(tile_file, 'rb') as handle:\n",
    "            tile_data = pickle.load(handle)\n",
    "        return tile_data\n",
    "    \n",
    "    def _get_locations(self, contour):\n",
    "        x1, y1 = np.min(contour, axis=0)\n",
    "        x2, y2 = np.max(contour, axis=0)\n",
    "        locations = []\n",
    "        if x1 < self.overlap:\n",
    "            locations.append('left')\n",
    "        if x2 > self.h - self.overlap:\n",
    "            locations.append('right')\n",
    "        if y1 < self.overlap:\n",
    "            locations.append('top')\n",
    "        if y2 > self.w - self.overlap:\n",
    "            locations.append('bottom')\n",
    "        if len(locations) == 0:\n",
    "            locations.append('middle')\n",
    "        return locations\n",
    "        \n",
    "        \n",
    "    def _convert_mask_to_poly(self, instance):\n",
    "        mask = np.asarray(instance['global_mask'])\n",
    "        bbox = instance['global_bbox']\n",
    "        bottom_left = np.asarray(mask).min(axis=0)\n",
    "        local_mask = mask - bottom_left\n",
    "        #print(local_mask.min(axis=0))\n",
    "        #print(local_mask.max(axis=0))\n",
    "        mask_shape = (int(bbox[2] - bbox[0]) + 1, int(bbox[3] - bbox[1]) + 1)  \n",
    "        local_mask = self._create_bool_mask(local_mask, mask_shape)\n",
    "        contours, _ = cv2.findContours(local_mask.astype(np.uint8).copy(), cv2.RETR_TREE, cv2.CHAIN_APPROX_NONE)\n",
    "        assert len(contours) == 1\n",
    "        contour = np.asarray(contours[0]) + bottom_left\n",
    "        contour = contour.reshape(-1, 2).tolist()\n",
    "        coords = [(self.h_start + pixel[0]*self.mask_h_size, \n",
    "                   self.v_start - pixel[1]*self.mask_v_size) \n",
    "                  for pixel in contour]\n",
    "        coords = np.asarray(coords)\n",
    "        poly = Polygon(zip(coords[:, 0].tolist(), coords[:, 1].tolist()))\n",
    "        return poly\n",
    "\n",
    "        \n",
    "    def _create_bool_mask(self, mask, size):\n",
    "        \"\"\"\n",
    "        :param mask: mask by index\n",
    "        :param size: size of image\n",
    "        :return: bool mask\n",
    "        \"\"\"\n",
    "        mask_ = np.zeros(size)\n",
    "        mask = mask.tolist()\n",
    "        for x, y in mask:\n",
    "            #if (x < size[0]) & (y < size[1]):\n",
    "            mask_[int(x), int(y)] = 1\n",
    "        return mask_.transpose()  # numpy ndarray dimension follows matrix convetion, which is different from euclidean coordinate convetion that cv2 contour analysis uses"
   ]
  },
  {
   "cell_type": "code",
   "execution_count": 3,
   "id": "b09b43c1",
   "metadata": {
    "scrolled": false
   },
   "outputs": [],
   "source": [
    "ir = Instance_Registration('data/rocklas/prediction_2d', \n",
    "                           'data/rocklas/prediction_shapefiles/merged_inference_rock.shp', \n",
    "                           disable_merge=False)"
   ]
  },
  {
   "cell_type": "code",
   "execution_count": 4,
   "id": "28ac67be",
   "metadata": {},
   "outputs": [
    {
     "name": "stdout",
     "output_type": "stream",
     "text": [
      "Instance registration: \n"
     ]
    },
    {
     "name": "stderr",
     "output_type": "stream",
     "text": [
      "100%|█████████████████████████████████████████| 441/441 [01:41<00:00,  4.35it/s]\n"
     ]
    },
    {
     "name": "stdout",
     "output_type": "stream",
     "text": [
      "Instance #:  516\n",
      "save shapefile: \n"
     ]
    },
    {
     "name": "stderr",
     "output_type": "stream",
     "text": [
      "100%|█████████████████████████████████████████| 516/516 [00:16<00:00, 30.93it/s]\n"
     ]
    }
   ],
   "source": [
    "updated_tile_files, timestamps = ir.start_registration()\n",
    "ir.save()"
   ]
  },
  {
   "cell_type": "markdown",
   "id": "cc6cbb34",
   "metadata": {},
   "source": [
    "## Examine algorithm time complexity"
   ]
  },
  {
   "cell_type": "code",
   "execution_count": null,
   "id": "e29e2df5",
   "metadata": {
    "scrolled": true
   },
   "outputs": [
    {
     "name": "stdout",
     "output_type": "stream",
     "text": [
      "Instance registration: \n"
     ]
    },
    {
     "name": "stderr",
     "output_type": "stream",
     "text": [
      " 16%|██████▉                                   | 43/261 [00:13<01:17,  2.80it/s]"
     ]
    }
   ],
   "source": [
    "# random tile sequence\n",
    "time_table = []\n",
    "for i in range(5):\n",
    "    shuffle(updated_tile_files)\n",
    "    ir.update_tile_files(updated_tile_files)\n",
    "    _, timestamps = ir.start_registration()\n",
    "    time_table.append(timestamps)"
   ]
  },
  {
   "cell_type": "code",
   "execution_count": 6,
   "id": "3b4df5cc",
   "metadata": {},
   "outputs": [],
   "source": [
    "import matplotlib.pyplot as plt"
   ]
  },
  {
   "cell_type": "code",
   "execution_count": 7,
   "id": "05cd89dd",
   "metadata": {},
   "outputs": [
    {
     "data": {
      "image/png": "[encoded data removed]",
      "text/plain": [
       "<Figure size 432x288 with 1 Axes>"
      ]
     },
     "metadata": {
      "needs_background": "light"
     },
     "output_type": "display_data"
    }
   ],
   "source": [
    "times = np.asarray(time_table)\n",
    "#np.save('data/rocklas/time_complexity.npy', times)\n",
    "_, n = times.shape\n",
    "for t in times:\n",
    "    plt.plot(range(n), t)\n",
    "plt.show()"
   ]
  },
  {
   "cell_type": "code",
   "execution_count": 8,
   "id": "00ad9657",
   "metadata": {},
   "outputs": [
    {
     "data": {
      "image/png": "[encoded data removed]",
      "text/plain": [
       "<Figure size 432x288 with 1 Axes>"
      ]
     },
     "metadata": {
      "needs_background": "light"
     },
     "output_type": "display_data"
    }
   ],
   "source": [
    "mean = times.mean(axis=0)\n",
    "std = times.std(axis=0)\n",
    "\n",
    "#plt.errorbar(range(n), mean, std, linestyle='None', marker='^')\n",
    "plt.plot(range(n), mean)\n",
    "plt.grid()\n",
    "plt.show()"
   ]
  },
  {
   "cell_type": "code",
   "execution_count": 14,
   "id": "f654d1f9",
   "metadata": {},
   "outputs": [
    {
     "name": "stdout",
     "output_type": "stream",
     "text": [
      "Instance registration: \n"
     ]
    },
    {
     "name": "stderr",
     "output_type": "stream",
     "text": [
      "100%|█████████████████████████████████████████| 261/261 [01:47<00:00,  2.42it/s]"
     ]
    },
    {
     "name": "stdout",
     "output_type": "stream",
     "text": [
      "Instance #:  516\n"
     ]
    },
    {
     "name": "stderr",
     "output_type": "stream",
     "text": [
      "\n"
     ]
    }
   ],
   "source": [
    "# ordered tile sequence\n",
    "updated_tile_files.sort()\n",
    "ir.update_tile_files(updated_tile_files)\n",
    "_, timestamps = ir.start_registration()"
   ]
  },
  {
   "cell_type": "code",
   "execution_count": 99,
   "id": "6d390ce0",
   "metadata": {},
   "outputs": [
    {
     "data": {
      "image/png": "[encoded data removed]",
      "text/plain": [
       "<Figure size 432x288 with 1 Axes>"
      ]
     },
     "metadata": {
      "needs_background": "light"
     },
     "output_type": "display_data"
    }
   ],
   "source": [
    "n = len(timestamps)\n",
    "plt.plot(range(n), timestamps)\n",
    "plt.plot(range(n), mean)\n",
    "plt.grid()\n",
    "plt.show()"
   ]
  },
  {
   "cell_type": "code",
   "execution_count": null,
   "id": "164637c3",
   "metadata": {},
   "outputs": [],
   "source": []
  }
 ],
 "metadata": {
  "kernelspec": {
   "display_name": "Python 3 (ipykernel)",
   "language": "python",
   "name": "python3"
  },
  "language_info": {
   "codemirror_mode": {
    "name": "ipython",
    "version": 3
   },
   "file_extension": ".py",
   "mimetype": "text/x-python",
   "name": "python",
   "nbconvert_exporter": "python",
   "pygments_lexer": "ipython3",
   "version": "3.7.5"
  }
 },
 "nbformat": 4,
 "nbformat_minor": 5
}
