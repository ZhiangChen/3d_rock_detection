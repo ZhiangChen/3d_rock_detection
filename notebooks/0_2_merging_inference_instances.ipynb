{
 "cells": [
  {
   "cell_type": "markdown",
   "id": "237c0e42",
   "metadata": {},
   "source": [
    "## Algorithm II: Instance Registration\n",
    "\n",
    "Data structure: \n",
    "1. Each tile is noted with two spatial indices, i and j, which can be used to find its adjacent tiles.\n",
    "2. Rocks are grouped by tiles and rocks' locations in a tile. Also, each rock is linked with its location and tile indices. Thus the indexing order is as follows: tile indices -> location -> rock -> location & tile indices\n",
    "\n",
    "```\n",
    "for instance in instance:\n",
    "    location, tile_indices = get_location_in_tile(instance)\n",
    "    if location is not in tile_overlap:\n",
    "        register(instance)\n",
    "    else:\n",
    "        adjacent_tiles = compute_adjacent_tiles(tile_indices)\n",
    "        for adjacent_tile in adjacent_tiles:\n",
    "            for adjacent_instance in adjacent_tile:\n",
    "                if overlap_bbox(instance, adjacent_instance) > bbox_threshold:\n",
    "                    if overlap_polygon(instance, adjacent_instance) > polygon_threshold:\n",
    "                        merge(instance, adjacent_tile)\n",
    "                        next instance \n",
    "        register(instance)\n",
    "```"
   ]
  },
  {
   "cell_type": "code",
   "execution_count": null,
   "id": "7f62aecc",
   "metadata": {},
   "outputs": [],
   "source": []
  }
 ],
 "metadata": {
  "kernelspec": {
   "display_name": "Python 3 (ipykernel)",
   "language": "python",
   "name": "python3"
  },
  "language_info": {
   "codemirror_mode": {
    "name": "ipython",
    "version": 3
   },
   "file_extension": ".py",
   "mimetype": "text/x-python",
   "name": "python",
   "nbconvert_exporter": "python",
   "pygments_lexer": "ipython3",
   "version": "3.7.5"
  }
 },
 "nbformat": 4,
 "nbformat_minor": 5
}
