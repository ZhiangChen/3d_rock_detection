{
 "cells": [
  {
   "cell_type": "code",
   "execution_count": 1,
   "id": "891719bf",
   "metadata": {},
   "outputs": [],
   "source": [
    "import sys\n",
    "import os\n",
    "path = os.path.abspath(os.path.join(os.getcwd(), os.pardir))\n",
    "if path not in sys.path:\n",
    "    sys.path.insert(0, path)"
   ]
  },
  {
   "cell_type": "markdown",
   "id": "56e08b08",
   "metadata": {},
   "source": [
    "## Create dataset"
   ]
  },
  {
   "cell_type": "code",
   "execution_count": 2,
   "id": "897278ed",
   "metadata": {},
   "outputs": [],
   "source": [
    "from rock_detection_2d.datasets.instance_segmentation.rgb_dataset import Dataset\n",
    "import numpy as np\n",
    "import matplotlib.pyplot as plt"
   ]
  },
  {
   "cell_type": "code",
   "execution_count": 3,
   "id": "80f9265b",
   "metadata": {},
   "outputs": [],
   "source": [
    "dataset = Dataset('data/rocklas/tiles', 1000)"
   ]
  },
  {
   "cell_type": "code",
   "execution_count": 4,
   "id": "67f3c8eb",
   "metadata": {},
   "outputs": [],
   "source": [
    "img, target = dataset[1]"
   ]
  },
  {
   "cell_type": "code",
   "execution_count": 5,
   "id": "9ee09fa1",
   "metadata": {},
   "outputs": [
    {
     "data": {
      "text/plain": [
       "torch.Size([3, 1000, 1000])"
      ]
     },
     "execution_count": 5,
     "metadata": {},
     "output_type": "execute_result"
    }
   ],
   "source": [
    "target['masks'].shape"
   ]
  },
  {
   "cell_type": "code",
   "execution_count": 6,
   "id": "c41dc834",
   "metadata": {},
   "outputs": [
    {
     "data": {
      "text/plain": [
       "(1000, 1000, 3)"
      ]
     },
     "execution_count": 6,
     "metadata": {},
     "output_type": "execute_result"
    }
   ],
   "source": [
    "img.shape"
   ]
  },
  {
   "cell_type": "code",
   "execution_count": 7,
   "id": "c966d306",
   "metadata": {},
   "outputs": [],
   "source": [
    "dataset.show(1)"
   ]
  },
  {
   "cell_type": "code",
   "execution_count": 8,
   "id": "f05eb1d4",
   "metadata": {},
   "outputs": [
    {
     "data": {
      "text/plain": [
       "array([[[121, 110, 101],\n",
       "        [133, 123, 111],\n",
       "        [163, 151, 141],\n",
       "        ...,\n",
       "        [109, 108,  97],\n",
       "        [111, 111,  96],\n",
       "        [109, 110,  96]],\n",
       "\n",
       "       [[133, 121, 112],\n",
       "        [144, 135, 122],\n",
       "        [163, 154, 141],\n",
       "        ...,\n",
       "        [117, 117, 107],\n",
       "        [118, 117, 104],\n",
       "        [115, 115, 105]],\n",
       "\n",
       "       [[142, 129, 119],\n",
       "        [145, 136, 123],\n",
       "        [148, 138, 125],\n",
       "        ...,\n",
       "        [116, 117, 105],\n",
       "        [115, 116, 104],\n",
       "        [116, 117, 108]],\n",
       "\n",
       "       ...,\n",
       "\n",
       "       [[ 71,  47,  38],\n",
       "        [ 88,  74,  63],\n",
       "        [126, 116,  97],\n",
       "        ...,\n",
       "        [105, 107,  96],\n",
       "        [113, 115, 100],\n",
       "        [148, 144, 134]],\n",
       "\n",
       "       [[ 65,  45,  34],\n",
       "        [ 62,  44,  37],\n",
       "        [ 96,  83,  69],\n",
       "        ...,\n",
       "        [115, 116, 106],\n",
       "        [120, 120, 108],\n",
       "        [151, 141, 129]],\n",
       "\n",
       "       [[ 60,  49,  34],\n",
       "        [ 54,  37,  27],\n",
       "        [ 75,  65,  51],\n",
       "        ...,\n",
       "        [125, 124, 115],\n",
       "        [124, 123, 112],\n",
       "        [142, 138, 127]]], dtype=uint8)"
      ]
     },
     "execution_count": 8,
     "metadata": {},
     "output_type": "execute_result"
    }
   ],
   "source": [
    "img"
   ]
  },
  {
   "cell_type": "code",
   "execution_count": 9,
   "id": "1a601f47",
   "metadata": {},
   "outputs": [
    {
     "data": {
      "text/plain": [
       "([0.4508936958691256, 0.43597375552024875, 0.3957421697130724],\n",
       " [0.2869340501454762, 0.27112731116220695, 0.24573479879090088],\n",
       " [1.0, 1.0, 1.0],\n",
       " [0.0, 0.0, 0.0])"
      ]
     },
     "execution_count": 9,
     "metadata": {},
     "output_type": "execute_result"
    }
   ],
   "source": [
    "dataset.imageStat(5)"
   ]
  },
  {
   "cell_type": "code",
   "execution_count": null,
   "id": "432f6ba0",
   "metadata": {},
   "outputs": [],
   "source": []
  }
 ],
 "metadata": {
  "kernelspec": {
   "display_name": "Python 3 (ipykernel)",
   "language": "python",
   "name": "python3"
  },
  "language_info": {
   "codemirror_mode": {
    "name": "ipython",
    "version": 3
   },
   "file_extension": ".py",
   "mimetype": "text/x-python",
   "name": "python",
   "nbconvert_exporter": "python",
   "pygments_lexer": "ipython3",
   "version": "3.7.5"
  }
 },
 "nbformat": 4,
 "nbformat_minor": 5
}
