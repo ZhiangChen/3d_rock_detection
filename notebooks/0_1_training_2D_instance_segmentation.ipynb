{
 "cells": [
  {
   "cell_type": "code",
   "execution_count": 1,
   "id": "0873b2f4",
   "metadata": {},
   "outputs": [],
   "source": [
    "import sys\n",
    "import os\n",
    "path = os.path.abspath(os.path.join(os.getcwd(), os.pardir))\n",
    "if path not in sys.path:\n",
    "    sys.path.insert(0, path)"
   ]
  },
  {
   "cell_type": "markdown",
   "id": "63d7aa45",
   "metadata": {},
   "source": [
    "## Create dataset"
   ]
  },
  {
   "cell_type": "code",
   "execution_count": 2,
   "id": "0fa029b0",
   "metadata": {},
   "outputs": [],
   "source": [
    "from rock_detection_2d.datasets.instance_segmentation.rgb_dataset import Dataset\n",
    "import numpy as np\n",
    "import matplotlib.pyplot as plt"
   ]
  },
  {
   "cell_type": "code",
   "execution_count": 3,
   "id": "2edab146",
   "metadata": {},
   "outputs": [],
   "source": [
    "dataset = Dataset('data/rocklas/tiles', 1000)"
   ]
  },
  {
   "cell_type": "code",
   "execution_count": 4,
   "id": "4c4585af",
   "metadata": {},
   "outputs": [],
   "source": [
    "img, target = dataset[1]"
   ]
  },
  {
   "cell_type": "code",
   "execution_count": 5,
   "id": "346db9d9",
   "metadata": {},
   "outputs": [
    {
     "data": {
      "text/plain": [
       "torch.Size([3, 1000, 1000])"
      ]
     },
     "execution_count": 5,
     "metadata": {},
     "output_type": "execute_result"
    }
   ],
   "source": [
    "target['masks'].shape"
   ]
  },
  {
   "cell_type": "code",
   "execution_count": 6,
   "id": "18df30e6",
   "metadata": {},
   "outputs": [
    {
     "data": {
      "text/plain": [
       "(1000, 1000, 3)"
      ]
     },
     "execution_count": 6,
     "metadata": {},
     "output_type": "execute_result"
    }
   ],
   "source": [
    "img.shape"
   ]
  },
  {
   "cell_type": "code",
   "execution_count": 7,
   "id": "56840a5a",
   "metadata": {},
   "outputs": [],
   "source": [
    "dataset.show(1)"
   ]
  },
  {
   "cell_type": "code",
   "execution_count": 8,
   "id": "2179a9e9",
   "metadata": {},
   "outputs": [
    {
     "data": {
      "text/plain": [
       "array([[[121, 110, 101],\n",
       "        [133, 123, 111],\n",
       "        [163, 151, 141],\n",
       "        ...,\n",
       "        [109, 108,  97],\n",
       "        [111, 111,  96],\n",
       "        [109, 110,  96]],\n",
       "\n",
       "       [[133, 121, 112],\n",
       "        [144, 135, 122],\n",
       "        [163, 154, 141],\n",
       "        ...,\n",
       "        [117, 117, 107],\n",
       "        [118, 117, 104],\n",
       "        [115, 115, 105]],\n",
       "\n",
       "       [[142, 129, 119],\n",
       "        [145, 136, 123],\n",
       "        [148, 138, 125],\n",
       "        ...,\n",
       "        [116, 117, 105],\n",
       "        [115, 116, 104],\n",
       "        [116, 117, 108]],\n",
       "\n",
       "       ...,\n",
       "\n",
       "       [[ 71,  47,  38],\n",
       "        [ 88,  74,  63],\n",
       "        [126, 116,  97],\n",
       "        ...,\n",
       "        [105, 107,  96],\n",
       "        [113, 115, 100],\n",
       "        [148, 144, 134]],\n",
       "\n",
       "       [[ 65,  45,  34],\n",
       "        [ 62,  44,  37],\n",
       "        [ 96,  83,  69],\n",
       "        ...,\n",
       "        [115, 116, 106],\n",
       "        [120, 120, 108],\n",
       "        [151, 141, 129]],\n",
       "\n",
       "       [[ 60,  49,  34],\n",
       "        [ 54,  37,  27],\n",
       "        [ 75,  65,  51],\n",
       "        ...,\n",
       "        [125, 124, 115],\n",
       "        [124, 123, 112],\n",
       "        [142, 138, 127]]], dtype=uint8)"
      ]
     },
     "execution_count": 8,
     "metadata": {},
     "output_type": "execute_result"
    }
   ],
   "source": [
    "img"
   ]
  },
  {
   "cell_type": "code",
   "execution_count": 9,
   "id": "726d3987",
   "metadata": {},
   "outputs": [
    {
     "data": {
      "text/plain": [
       "([0.4519754698047607, 0.4371444792161111, 0.3902641411708128],\n",
       " [0.25072440895369597, 0.23761772574898923, 0.21944921297252346],\n",
       " [1.0, 1.0, 1.0],\n",
       " [0.0, 0.0, 0.0])"
      ]
     },
     "execution_count": 9,
     "metadata": {},
     "output_type": "execute_result"
    }
   ],
   "source": [
    "dataset.imageStat(5)"
   ]
  },
  {
   "cell_type": "code",
   "execution_count": 10,
   "id": "ba177e56",
   "metadata": {},
   "outputs": [
    {
     "data": {
      "text/plain": [
       "([0.4372622066783107, 0.4232377313100444, 0.38369190841487827],\n",
       " [0.28333747092405015, 0.26695061192689507, 0.24216441633191108],\n",
       " [1.0, 1.0, 1.0],\n",
       " [0.0, 0.0, 0.0])"
      ]
     },
     "execution_count": 10,
     "metadata": {},
     "output_type": "execute_result"
    }
   ],
   "source": [
    "dataset.imageStat(50)"
   ]
  }
 ],
 "metadata": {
  "kernelspec": {
   "display_name": "Python 3 (ipykernel)",
   "language": "python",
   "name": "python3"
  },
  "language_info": {
   "codemirror_mode": {
    "name": "ipython",
    "version": 3
   },
   "file_extension": ".py",
   "mimetype": "text/x-python",
   "name": "python",
   "nbconvert_exporter": "python",
   "pygments_lexer": "ipython3",
   "version": "3.7.5"
  }
 },
 "nbformat": 4,
 "nbformat_minor": 5
}
