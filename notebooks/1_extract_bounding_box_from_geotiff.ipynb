{
 "cells": [
  {
   "cell_type": "code",
   "execution_count": 1,
   "metadata": {
    "colab": {
     "base_uri": "https://localhost:8080/"
    },
    "executionInfo": {
     "elapsed": 10020,
     "status": "ok",
     "timestamp": 1635737538628,
     "user": {
      "displayName": "Zhiang Chen",
      "photoUrl": "https://lh3.googleusercontent.com/a-/AOh14Gjx1MzMxCPErV6uZ1fm_qWchx0_bovJ3Kc9IO8rwQ=s64",
      "userId": "14710434422152901796"
     },
     "user_tz": 420
    },
    "id": "FxgEn--hqRxf",
    "outputId": "bfe9259e-a862-4416-fe97-65d74178bd59"
   },
   "outputs": [
    {
     "data": {
      "text/plain": [
       "' # install packages for google colab\\n!pip install rasterio\\n!pip install rioxarray\\n!pip install geopandas\\n'"
      ]
     },
     "execution_count": 1,
     "metadata": {},
     "output_type": "execute_result"
    }
   ],
   "source": [
    "\"\"\" # install packages for google colab\n",
    "!pip install rasterio\n",
    "!pip install rioxarray\n",
    "!pip install geopandas\n",
    "\"\"\"\n"
   ]
  },
  {
   "cell_type": "code",
   "execution_count": 2,
   "metadata": {
    "colab": {
     "base_uri": "https://localhost:8080/"
    },
    "executionInfo": {
     "elapsed": 3,
     "status": "ok",
     "timestamp": 1635737539820,
     "user": {
      "displayName": "Zhiang Chen",
      "photoUrl": "https://lh3.googleusercontent.com/a-/AOh14Gjx1MzMxCPErV6uZ1fm_qWchx0_bovJ3Kc9IO8rwQ=s64",
      "userId": "14710434422152901796"
     },
     "user_tz": 420
    },
    "id": "hqaDhKitqZ2y",
    "outputId": "458011cb-7fde-4a1c-cd7d-79e59b7ef10c"
   },
   "outputs": [
    {
     "data": {
      "text/plain": [
       "' # import packages for google colab\\nimport rasterio\\nimport geopandas as gpd\\nimport rioxarray\\nfrom rasterio.plot import show\\nfrom pyproj import CRS\\nfrom google.colab import drive\\nimport os\\nimport numpy as np\\n\\ndrive.mount(\"/content/drive\")\\nos.chdir(\\'/content/drive/MyDrive/DREAMS - Zhiang/Projects/3D_rock_detection/data\\')\\nprint(os.listdir())\\n'"
      ]
     },
     "execution_count": 2,
     "metadata": {},
     "output_type": "execute_result"
    }
   ],
   "source": [
    "\"\"\" # import packages for google colab\n",
    "import rasterio\n",
    "import geopandas as gpd\n",
    "import rioxarray\n",
    "from rasterio.plot import show\n",
    "from pyproj import CRS\n",
    "from google.colab import drive\n",
    "import os\n",
    "import numpy as np\n",
    "\n",
    "drive.mount(\"/content/drive\")\n",
    "os.chdir('/content/drive/MyDrive/DREAMS - Zhiang/Projects/3D_rock_detection/data')\n",
    "print(os.listdir())\n",
    "\"\"\""
   ]
  },
  {
   "cell_type": "code",
   "execution_count": 3,
   "metadata": {},
   "outputs": [
    {
     "name": "stdout",
     "output_type": "stream",
     "text": [
      "['tiles', 'pbr_bboxes_wgs_utm.npy', 'box_pbr_annotation', 'prediction_2d', 'granite_dells_wgs_utm.obj', 'inference_tiles', 'granite_dells_wgs_utm.tif', 'box_pbr', 'annotation_shapefiles', 'processed', 'prediction_3d', 'prediction_shapefiles', 'las_box_filter.py', 'raw', 'granite_dells_wgs_utm.jpg', 'granite_dells_wgs_utm.mtl', 'granite_dells_wgs_utm.las']\n"
     ]
    }
   ],
   "source": [
    "import rasterio\n",
    "import geopandas as gpd\n",
    "import rioxarray\n",
    "from rasterio.plot import show\n",
    "from pyproj import CRS\n",
    "import os\n",
    "import numpy as np\n",
    "\n",
    "os.chdir('data/rocklas')\n",
    "print(os.listdir())"
   ]
  },
  {
   "cell_type": "code",
   "execution_count": 4,
   "metadata": {
    "id": "3SsHJ8RLq1EC"
   },
   "outputs": [],
   "source": [
    "tf = rioxarray.open_rasterio(\"granite_dells_wgs_utm.tif\")"
   ]
  },
  {
   "cell_type": "code",
   "execution_count": 5,
   "metadata": {
    "colab": {
     "base_uri": "https://localhost:8080/"
    },
    "executionInfo": {
     "elapsed": 196,
     "status": "ok",
     "timestamp": 1635737557757,
     "user": {
      "displayName": "Zhiang Chen",
      "photoUrl": "https://lh3.googleusercontent.com/a-/AOh14Gjx1MzMxCPErV6uZ1fm_qWchx0_bovJ3Kc9IO8rwQ=s64",
      "userId": "14710434422152901796"
     },
     "user_tz": 420
    },
    "id": "68GpXx86xOYP",
    "outputId": "007be06a-a75a-4bed-ec10-46a80ab9f9a8"
   },
   "outputs": [
    {
     "name": "stdout",
     "output_type": "stream",
     "text": [
      "EPSG:32612\n",
      "None\n",
      "(369879.74188158615, 3829103.886365752, 369971.24711638613, 3829197.847490072)\n",
      "16655\n",
      "17102\n",
      "(0.005494159999999286, -0.005494160000002856)\n"
     ]
    }
   ],
   "source": [
    "print(tf.rio.crs)\n",
    "print(tf.rio.nodata)\n",
    "print(tf.rio.bounds())\n",
    "print(tf.rio.width)\n",
    "print(tf.rio.height)\n",
    "print(tf.rio.resolution())"
   ]
  },
  {
   "cell_type": "code",
   "execution_count": 6,
   "metadata": {
    "colab": {
     "base_uri": "https://localhost:8080/"
    },
    "executionInfo": {
     "elapsed": 183,
     "status": "ok",
     "timestamp": 1635737560443,
     "user": {
      "displayName": "Zhiang Chen",
      "photoUrl": "https://lh3.googleusercontent.com/a-/AOh14Gjx1MzMxCPErV6uZ1fm_qWchx0_bovJ3Kc9IO8rwQ=s64",
      "userId": "14710434422152901796"
     },
     "user_tz": 420
    },
    "id": "1pXXq5lDxc2O",
    "outputId": "868dff10-1f38-4582-b933-39bbecb9cd45"
   },
   "outputs": [
    {
     "data": {
      "text/plain": [
       "<Projected CRS: EPSG:32612>\n",
       "Name: WGS 84 / UTM zone 12N\n",
       "Axis Info [cartesian]:\n",
       "- E[east]: Easting (metre)\n",
       "- N[north]: Northing (metre)\n",
       "Area of Use:\n",
       "- name: Between 114°W and 108°W, northern hemisphere between equator and 84°N, onshore and offshore. Canada - Alberta; Northwest Territories (NWT); Nunavut; Saskatchewan. Mexico. United States (USA).\n",
       "- bounds: (-114.0, 0.0, -108.0, 84.0)\n",
       "Coordinate Operation:\n",
       "- name: UTM zone 12N\n",
       "- method: Transverse Mercator\n",
       "Datum: World Geodetic System 1984 ensemble\n",
       "- Ellipsoid: WGS 84\n",
       "- Prime Meridian: Greenwich"
      ]
     },
     "execution_count": 6,
     "metadata": {},
     "output_type": "execute_result"
    }
   ],
   "source": [
    "epsg = tf.rio.crs.to_epsg()\n",
    "crs = CRS(epsg)\n",
    "crs"
   ]
  },
  {
   "cell_type": "code",
   "execution_count": 7,
   "metadata": {
    "id": "X1Qq7cd5yCu2"
   },
   "outputs": [],
   "source": [
    "#pbr = gpd.read_file(\"annotation_shapefiles/free_standing_rock.shp\").to_crs(crs)\n",
    "#pbr.to_file(\"annotation_shapefiles/free_standing_rock.shp\")\n",
    "\n",
    "PBRs = gpd.read_file(\"annotation_shapefiles/free_standing_rock.shp\")"
   ]
  },
  {
   "cell_type": "code",
   "execution_count": null,
   "metadata": {
    "id": "QFsQ7z-wj6oQ"
   },
   "outputs": [],
   "source": [
    "bboxes = []\n",
    "for pbr in PBRs['geometry']:\n",
    "  bbox = pbr.bounds\n",
    "  bboxes.append(bbox)\n",
    "  \n",
    "bboxes = np.asarray(bboxes)"
   ]
  },
  {
   "cell_type": "code",
   "execution_count": null,
   "metadata": {
    "id": "DSyxRYLsnCB6"
   },
   "outputs": [],
   "source": [
    "np.save('pbr_bboxes_wgs_utm.npy', bboxes)"
   ]
  },
  {
   "cell_type": "code",
   "execution_count": null,
   "metadata": {
    "id": "8uqfT7RUbnvY"
   },
   "outputs": [],
   "source": []
  }
 ],
 "metadata": {
  "colab": {
   "authorship_tag": "ABX9TyOWD25YXnTvkGfgczcQIoQD",
   "name": "1_extract_bounding_box_from_geotiff.ipynb",
   "provenance": []
  },
  "kernelspec": {
   "display_name": "Python 3 (ipykernel)",
   "language": "python",
   "name": "python3"
  },
  "language_info": {
   "codemirror_mode": {
    "name": "ipython",
    "version": 3
   },
   "file_extension": ".py",
   "mimetype": "text/x-python",
   "name": "python",
   "nbconvert_exporter": "python",
   "pygments_lexer": "ipython3",
   "version": "3.7.5"
  }
 },
 "nbformat": 4,
 "nbformat_minor": 1
}
