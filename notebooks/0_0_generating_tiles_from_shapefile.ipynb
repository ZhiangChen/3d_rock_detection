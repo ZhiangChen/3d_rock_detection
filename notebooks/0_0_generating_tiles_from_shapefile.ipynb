{
 "cells": [
  {
   "cell_type": "code",
   "execution_count": 154,
   "metadata": {
    "colab": {
     "base_uri": "https://localhost:8080/"
    },
    "executionInfo": {
     "elapsed": 8687,
     "status": "ok",
     "timestamp": 1641877829868,
     "user": {
      "displayName": "Zhiang Chen",
      "photoUrl": "https://lh3.googleusercontent.com/a-/AOh14Gjx1MzMxCPErV6uZ1fm_qWchx0_bovJ3Kc9IO8rwQ=s64",
      "userId": "14710434422152901796"
     },
     "user_tz": 420
    },
    "id": "Rn0p6AhgFx-e",
    "outputId": "f12269e8-0c53-4fde-fe82-09108f83d2d0"
   },
   "outputs": [
    {
     "name": "stdout",
     "output_type": "stream",
     "text": [
      "Requirement already satisfied: rasterio in /usr/local/lib/python3.7/dist-packages (1.2.10)\n",
      "Requirement already satisfied: affine in /usr/local/lib/python3.7/dist-packages (from rasterio) (2.3.0)\n",
      "Requirement already satisfied: numpy in /usr/local/lib/python3.7/dist-packages (from rasterio) (1.19.5)\n",
      "Requirement already satisfied: click-plugins in /usr/local/lib/python3.7/dist-packages (from rasterio) (1.1.1)\n",
      "Requirement already satisfied: cligj>=0.5 in /usr/local/lib/python3.7/dist-packages (from rasterio) (0.7.2)\n",
      "Requirement already satisfied: setuptools in /usr/local/lib/python3.7/dist-packages (from rasterio) (57.4.0)\n",
      "Requirement already satisfied: certifi in /usr/local/lib/python3.7/dist-packages (from rasterio) (2021.10.8)\n",
      "Requirement already satisfied: click>=4.0 in /usr/local/lib/python3.7/dist-packages (from rasterio) (7.1.2)\n",
      "Requirement already satisfied: attrs in /usr/local/lib/python3.7/dist-packages (from rasterio) (21.2.0)\n",
      "Requirement already satisfied: snuggs>=1.4.1 in /usr/local/lib/python3.7/dist-packages (from rasterio) (1.4.7)\n",
      "Requirement already satisfied: pyparsing>=2.1.6 in /usr/local/lib/python3.7/dist-packages (from snuggs>=1.4.1->rasterio) (3.0.6)\n",
      "Requirement already satisfied: rioxarray in /usr/local/lib/python3.7/dist-packages (0.9.1)\n",
      "Requirement already satisfied: pyproj>=2.2 in /usr/local/lib/python3.7/dist-packages (from rioxarray) (3.2.1)\n",
      "Requirement already satisfied: rasterio in /usr/local/lib/python3.7/dist-packages (from rioxarray) (1.2.10)\n",
      "Requirement already satisfied: xarray>=0.17 in /usr/local/lib/python3.7/dist-packages (from rioxarray) (0.18.2)\n",
      "Requirement already satisfied: packaging in /usr/local/lib/python3.7/dist-packages (from rioxarray) (21.3)\n",
      "Requirement already satisfied: certifi in /usr/local/lib/python3.7/dist-packages (from pyproj>=2.2->rioxarray) (2021.10.8)\n",
      "Requirement already satisfied: pandas>=1.0 in /usr/local/lib/python3.7/dist-packages (from xarray>=0.17->rioxarray) (1.1.5)\n",
      "Requirement already satisfied: setuptools>=40.4 in /usr/local/lib/python3.7/dist-packages (from xarray>=0.17->rioxarray) (57.4.0)\n",
      "Requirement already satisfied: numpy>=1.17 in /usr/local/lib/python3.7/dist-packages (from xarray>=0.17->rioxarray) (1.19.5)\n",
      "Requirement already satisfied: python-dateutil>=2.7.3 in /usr/local/lib/python3.7/dist-packages (from pandas>=1.0->xarray>=0.17->rioxarray) (2.8.2)\n",
      "Requirement already satisfied: pytz>=2017.2 in /usr/local/lib/python3.7/dist-packages (from pandas>=1.0->xarray>=0.17->rioxarray) (2018.9)\n",
      "Requirement already satisfied: six>=1.5 in /usr/local/lib/python3.7/dist-packages (from python-dateutil>=2.7.3->pandas>=1.0->xarray>=0.17->rioxarray) (1.15.0)\n",
      "Requirement already satisfied: pyparsing!=3.0.5,>=2.0.2 in /usr/local/lib/python3.7/dist-packages (from packaging->rioxarray) (3.0.6)\n",
      "Requirement already satisfied: attrs in /usr/local/lib/python3.7/dist-packages (from rasterio->rioxarray) (21.2.0)\n",
      "Requirement already satisfied: cligj>=0.5 in /usr/local/lib/python3.7/dist-packages (from rasterio->rioxarray) (0.7.2)\n",
      "Requirement already satisfied: snuggs>=1.4.1 in /usr/local/lib/python3.7/dist-packages (from rasterio->rioxarray) (1.4.7)\n",
      "Requirement already satisfied: click-plugins in /usr/local/lib/python3.7/dist-packages (from rasterio->rioxarray) (1.1.1)\n",
      "Requirement already satisfied: click>=4.0 in /usr/local/lib/python3.7/dist-packages (from rasterio->rioxarray) (7.1.2)\n",
      "Requirement already satisfied: affine in /usr/local/lib/python3.7/dist-packages (from rasterio->rioxarray) (2.3.0)\n",
      "Requirement already satisfied: geopandas in /usr/local/lib/python3.7/dist-packages (0.10.2)\n",
      "Requirement already satisfied: pyproj>=2.2.0 in /usr/local/lib/python3.7/dist-packages (from geopandas) (3.2.1)\n",
      "Requirement already satisfied: fiona>=1.8 in /usr/local/lib/python3.7/dist-packages (from geopandas) (1.8.20)\n",
      "Requirement already satisfied: shapely>=1.6 in /usr/local/lib/python3.7/dist-packages (from geopandas) (1.8.0)\n",
      "Requirement already satisfied: pandas>=0.25.0 in /usr/local/lib/python3.7/dist-packages (from geopandas) (1.1.5)\n",
      "Requirement already satisfied: munch in /usr/local/lib/python3.7/dist-packages (from fiona>=1.8->geopandas) (2.5.0)\n",
      "Requirement already satisfied: six>=1.7 in /usr/local/lib/python3.7/dist-packages (from fiona>=1.8->geopandas) (1.15.0)\n",
      "Requirement already satisfied: setuptools in /usr/local/lib/python3.7/dist-packages (from fiona>=1.8->geopandas) (57.4.0)\n",
      "Requirement already satisfied: cligj>=0.5 in /usr/local/lib/python3.7/dist-packages (from fiona>=1.8->geopandas) (0.7.2)\n",
      "Requirement already satisfied: attrs>=17 in /usr/local/lib/python3.7/dist-packages (from fiona>=1.8->geopandas) (21.2.0)\n",
      "Requirement already satisfied: click>=4.0 in /usr/local/lib/python3.7/dist-packages (from fiona>=1.8->geopandas) (7.1.2)\n",
      "Requirement already satisfied: click-plugins>=1.0 in /usr/local/lib/python3.7/dist-packages (from fiona>=1.8->geopandas) (1.1.1)\n",
      "Requirement already satisfied: certifi in /usr/local/lib/python3.7/dist-packages (from fiona>=1.8->geopandas) (2021.10.8)\n",
      "Requirement already satisfied: numpy>=1.15.4 in /usr/local/lib/python3.7/dist-packages (from pandas>=0.25.0->geopandas) (1.19.5)\n",
      "Requirement already satisfied: pytz>=2017.2 in /usr/local/lib/python3.7/dist-packages (from pandas>=0.25.0->geopandas) (2018.9)\n",
      "Requirement already satisfied: python-dateutil>=2.7.3 in /usr/local/lib/python3.7/dist-packages (from pandas>=0.25.0->geopandas) (2.8.2)\n"
     ]
    }
   ],
   "source": [
    "\"\"\" # google colab\n",
    "\n",
    "!pip install rasterio\n",
    "!pip install rioxarray\n",
    "!pip install geopandas\n",
    "\n",
    "\"\"\""
   ]
  },
  {
   "cell_type": "code",
   "execution_count": 156,
   "metadata": {
    "colab": {
     "base_uri": "https://localhost:8080/"
    },
    "executionInfo": {
     "elapsed": 1253,
     "status": "ok",
     "timestamp": 1641877853519,
     "user": {
      "displayName": "Zhiang Chen",
      "photoUrl": "https://lh3.googleusercontent.com/a-/AOh14Gjx1MzMxCPErV6uZ1fm_qWchx0_bovJ3Kc9IO8rwQ=s64",
      "userId": "14710434422152901796"
     },
     "user_tz": 420
    },
    "id": "sJZexItfGcNj",
    "outputId": "5471c868-8d0f-4dee-959b-9f7d6ff9abdd"
   },
   "outputs": [
    {
     "name": "stdout",
     "output_type": "stream",
     "text": [
      "Drive already mounted at /content/drive; to attempt to forcibly remount, call drive.mount(\"/content/drive\", force_remount=True).\n",
      "['las_box_filter.py', 'granite_dells_wgs_utm.mtl', 'granite_dells_wgs_utm.obj', 'granite_dells_wgs_utm.jpg', 'granite_dells_wgs_utm.tif', 'annotation_shapefiles', 'pbr_bboxes_wgs_utm.npy', 'box_pbr', 'granite_dells_wgs_utm.las', 'box_pbr_annotation', 'combined.las']\n"
     ]
    }
   ],
   "source": [
    "\"\"\" # google colab\n",
    "import rasterio\n",
    "import geopandas as gpd\n",
    "import rioxarray\n",
    "from rasterio.plot import show\n",
    "from pyproj import CRS\n",
    "from google.colab import drive\n",
    "import os\n",
    "import numpy as np\n",
    "import math\n",
    "import fiona\n",
    "from shapely.geometry import Polygon\n",
    "import matplotlib.pyplot as plt\n",
    "import shapely\n",
    "\n",
    "drive.mount(\"/content/drive\")\n",
    "os.chdir('/content/drive/MyDrive/DREAMS - Zhiang/Projects/3D_rock_detection/data')\n",
    "print(os.listdir())\n",
    "\"\"\""
   ]
  },
  {
   "cell_type": "code",
   "execution_count": 47,
   "metadata": {},
   "outputs": [],
   "source": [
    "import rasterio\n",
    "import geopandas as gpd\n",
    "import rioxarray\n",
    "from rasterio.plot import show\n",
    "from pyproj import CRS\n",
    "import os\n",
    "import numpy as np\n",
    "import math\n",
    "import fiona\n",
    "from shapely.geometry import Polygon\n",
    "import matplotlib.pyplot as plt\n",
    "import shapely\n",
    "import pandas as pd\n"
   ]
  },
  {
   "cell_type": "markdown",
   "metadata": {},
   "source": [
    "## Shapefile merger"
   ]
  },
  {
   "cell_type": "code",
   "execution_count": 57,
   "metadata": {},
   "outputs": [],
   "source": [
    "shapefiles = [\"data/rocklas/annotation_shapefiles/free_standing_rock.shp\", \"data/rocklas/annotation_shapefiles/country_rock_utm.shp\"]\n",
    "gdf1 = gpd.read_file(shapefiles[0])\n",
    "gdf2 = gpd.read_file(shapefiles[1])\n",
    "\n",
    "\n",
    "#gdf = gpd.GeoDataFrame(pd.concat([gdf1, gdf2]))\n",
    "\n",
    "gdf.to_file('data/rocklas/annotation_shapefiles/merged_rock.shp')\n"
   ]
  },
  {
   "cell_type": "code",
   "execution_count": 54,
   "metadata": {},
   "outputs": [
    {
     "data": {
      "text/plain": [
       "<AxesSubplot:>"
      ]
     },
     "execution_count": 54,
     "metadata": {},
     "output_type": "execute_result"
    },
    {
     "data": {
      "image/png": "[encoded data removed]",
      "text/plain": [
       "<Figure size 432x288 with 1 Axes>"
      ]
     },
     "metadata": {
      "needs_background": "light"
     },
     "output_type": "display_data"
    }
   ],
   "source": [
    "gdf.plot()"
   ]
  },
  {
   "cell_type": "code",
   "execution_count": 53,
   "metadata": {},
   "outputs": [
    {
     "data": {
      "text/plain": [
       "<AxesSubplot:>"
      ]
     },
     "execution_count": 53,
     "metadata": {},
     "output_type": "execute_result"
    },
    {
     "data": {
      "image/png": "[encoded data removed]",
      "text/plain": [
       "<Figure size 432x288 with 1 Axes>"
      ]
     },
     "metadata": {
      "needs_background": "light"
     },
     "output_type": "display_data"
    },
    {
     "data": {
      "image/png": "[encoded data removed]",
      "text/plain": [
       "<Figure size 432x288 with 1 Axes>"
      ]
     },
     "metadata": {
      "needs_background": "light"
     },
     "output_type": "display_data"
    }
   ],
   "source": [
    "gdf1.plot()\n",
    "gdf2.plot()"
   ]
  },
  {
   "cell_type": "code",
   "execution_count": 58,
   "metadata": {},
   "outputs": [],
   "source": [
    "def merge_shapefile(shapefile_list, shapefile_save):\n",
    "    shapefiles = []\n",
    "    for shapefile in shapefile_list:\n",
    "        assert os.path.isfile(shapefile)\n",
    "        shapefiles.append(shapefile)\n",
    "    \n",
    "    shps = [gpd.read_file(shp) for shp in shapefiles]\n",
    "    gdf = gpd.GeoDataFrame(pd.concat(shps, ignore_index=True), crs=shps[0].crs)\n",
    "    gdf.to_file(shapefile_save)"
   ]
  },
  {
   "cell_type": "code",
   "execution_count": 59,
   "metadata": {
    "scrolled": false
   },
   "outputs": [],
   "source": [
    "ls = [\"data/rocklas/annotation_shapefiles/free_standing_rock.shp\", \"data/rocklas/annotation_shapefiles/country_rock_utm.shp\"]\n",
    "\n",
    "merge_shapefile(ls, 'data/rocklas/annotation_shapefiles/merged_rock.shp')"
   ]
  },
  {
   "cell_type": "markdown",
   "metadata": {
    "id": "YgaxnkchIjHB"
   },
   "source": [
    "## Algorithm I\n",
    "\n",
    "We assign instances to tiles. For each instance:   \n",
    "1) getting bounding box coordinates of a box  \n",
    "2) calculating tile indices of the bounding box coordinates  \n",
    "3) purging the tile indices  \n",
    "4) intersecting the object shape with the indexed tiles to get instances in the tiles  \n",
    "Input:  \n",
    "1) geotiff coordinates (minimum x and y)  \n",
    "2) tile metric size  \n",
    "3) polygan-object shapefile   \n",
    "Output:  \n",
    "tile shapefiles. Each tile shapefile includes a tile polygon (box) and instance polygons. \n",
    "\n",
    "\n",
    "The time complexity of the algorithm is linear with the object number. "
   ]
  },
  {
   "cell_type": "code",
   "execution_count": 60,
   "metadata": {
    "executionInfo": {
     "elapsed": 452,
     "status": "ok",
     "timestamp": 1641880628567,
     "user": {
      "displayName": "Zhiang Chen",
      "photoUrl": "https://lh3.googleusercontent.com/a-/AOh14Gjx1MzMxCPErV6uZ1fm_qWchx0_bovJ3Kc9IO8rwQ=s64",
      "userId": "14710434422152901796"
     },
     "user_tz": 420
    },
    "id": "kD7Rv3x9HJFu"
   },
   "outputs": [],
   "source": [
    "class Tile_Splitter(object):\n",
    "    def __init__(self, tif_path, shapefile_path, tile_size, save_dir):\n",
    "        assert os.path.isfile(tif_path)\n",
    "        assert os.path.isfile(shapefile_path)\n",
    "        if not os.path.exists(save_dir):\n",
    "            os.makedirs(save_dir)\n",
    "        self.tile_dir = save_dir\n",
    "        self.tile_size = tile_size\n",
    "        self.tif = rioxarray.open_rasterio(tif_path)\n",
    "        self.x1, self.y1, self.x2, self.y2 = self.tif.rio.bounds()\n",
    "        self.instances_shp = gpd.read_file(shapefile_path).explode()\n",
    "        self.tiles = {}\n",
    "\n",
    "    def split(self):\n",
    "        for instance in self.instances_shp['geometry']:\n",
    "            bbox = instance.bounds\n",
    "            tile_indices = self._calculate_tile_indices(bbox)\n",
    "            if tile_indices.shape[0] == 1:\n",
    "                instance_poly = self._extract_instance_polygon(instance)\n",
    "                self._add_instance(instance_poly, tile_indices[0])\n",
    "                continue\n",
    "            for tile_index in self._calculate_tile_indices(bbox):\n",
    "                tile_poly = self._calculate_tile_polygon(tile_index)\n",
    "                instance_poly = self._extract_instance_polygon(instance)\n",
    "                poly = tile_poly.intersection(instance_poly)\n",
    "                self._add_instance(poly, tile_index)\n",
    "\n",
    "        self._create_tile_shapefiles()\n",
    "        self._clip_tiff_tiles()\n",
    "    \n",
    "    def _clip_tiff_tiles(self):\n",
    "        for tile_index in self.tiles:\n",
    "            i, j = tile_index\n",
    "            x1 = self.x1 + i*self.tile_size\n",
    "            x2 = self.x1 + i*self.tile_size + self.tile_size\n",
    "            y1 = self.y1 + j*self.tile_size \n",
    "            y2 = self.y1 + j*self.tile_size + self.tile_size\n",
    "            clipped_tif = self.tif.rio.clip_box(\n",
    "                minx=x1,\n",
    "                miny=y1,\n",
    "                maxx=x2,\n",
    "                maxy=y2,\n",
    "            )\n",
    "            f = os.path.join(self.tile_dir, \"{x}_{y}.tif\".format(x=tile_index[0], y=tile_index[1]))\n",
    "            clipped_tif.rio.to_raster(f)\n",
    "            print(f)\n",
    "\n",
    "    def _create_tile_shapefiles(self):\n",
    "        for tile_index in self.tiles:\n",
    "            instance_polys = self.tiles[tile_index]\n",
    "            schema = {'geometry':'Polygon', 'properties':[('name','str')]}\n",
    "            f = os.path.join(self.tile_dir, \"{x}_{y}.shp\".format(x=tile_index[0], y=tile_index[1]))\n",
    "            print(f)\n",
    "            polyShp = fiona.open(f, mode='w', driver='ESRI Shapefile', schema = schema, crs = self.tif.rio.crs)\n",
    "            for instance_poly in instance_polys:\n",
    "                if isinstance(instance_poly, shapely.geometry.multipolygon.MultiPolygon):\n",
    "                    for ins_poly in instance_poly:\n",
    "                        x,y = ins_poly.exterior.coords.xy\n",
    "                        xy = np.asarray((x,y)).transpose()\n",
    "                        rowDict = {'geometry' : {'type':'Polygon', 'coordinates': [xy]}, 'properties': {'name': 'tile'}}\n",
    "                        polyShp.write(rowDict)\n",
    "                    continue\n",
    "                x,y = instance_poly.exterior.coords.xy\n",
    "                xy = np.asarray((x,y)).transpose()\n",
    "                rowDict = {'geometry' : {'type':'Polygon', 'coordinates': [xy]}, 'properties': {'name': 'tile'}}\n",
    "                polyShp.write(rowDict)\n",
    "\n",
    "            polyShp.close()\n",
    "            \n",
    "    def _add_instance(self, instance_poly, tile_index):\n",
    "        tile_index = tuple(tile_index)\n",
    "        result = self.tiles.get(tile_index, False)\n",
    "        if not result:\n",
    "            self.tiles[tile_index] = [instance_poly]\n",
    "        else:\n",
    "            self.tiles[tile_index].append(instance_poly)\n",
    "\n",
    "    def _calculate_tile_indices(self, bbox):\n",
    "        x1, y1, x2, y2 = bbox\n",
    "        pt0 = (x1, y1)\n",
    "        pt1 = (x1, y2)\n",
    "        pt2 = (x2, y1)\n",
    "        pt3 = (x2, y2)\n",
    "        pts = (pt0, pt1, pt2, pt3)\n",
    "        tile_index = []\n",
    "        for pt in pts:\n",
    "            i = int((pt[0] - self.x1)/self.tile_size)\n",
    "            j = int((pt[1] - self.y1)/self.tile_size)\n",
    "            tile_index.append((i, j))\n",
    "        \n",
    "        tile_index = np.asarray(tile_index)\n",
    "        return np.unique(tile_index, axis=0)\n",
    "\n",
    "    def _calculate_tile_polygon(self, tile_index):\n",
    "        i, j = tile_index\n",
    "        pt0 = (self.x1 + i*self.tile_size, self.y1 + j*self.tile_size)\n",
    "        pt1 = (self.x1 + i*self.tile_size + self.tile_size, self.y1 + j*self.tile_size)\n",
    "        pt2 = (self.x1 + i*self.tile_size + self.tile_size, self.y1 + j*self.tile_size + self.tile_size)\n",
    "        pt3 = (self.x1 + i*self.tile_size, self.y1 + j*self.tile_size + self.tile_size)\n",
    "        return Polygon((pt0, pt1, pt2, pt3))\n",
    "\n",
    "    def _extract_instance_polygon(self, instance):\n",
    "        XYZ = []\n",
    "        for xyz in instance.boundary.coords:\n",
    "            XYZ.append(xyz)\n",
    "\n",
    "        XYZ = np.asarray(XYZ)\n",
    "        XY = XYZ[:, :2]\n",
    "        return Polygon(XY)\n",
    "\n",
    "    def _initiate_tile_shapefiles(self):\n",
    "        x1, y1, x2, y2 = self.tif.rio.bounds()\n",
    "        x_N = math.ceil((x2 - x1)/self.tile_size)\n",
    "        y_N = math.ceil((y2 - y1)/self.tile_size)\n",
    "        for i in range(x_N):\n",
    "            for j in range(y_N):\n",
    "                schema = {'geometry':'Polygon', 'properties':[('name','str')]}\n",
    "                f = os.path.join(self.tile_dir, \"{x}_{y}.shp\".format(x=i, y=j))\n",
    "                polyShp = fiona.open(f, mode='w', driver='ESRI Shapefile', schema = schema, crs = self.tif.rio.crs)\n",
    "                \n",
    "                pt0 = (x1 + i*self.tile_size, y1 + j*self.tile_size)\n",
    "                pt1 = (x1 + i*self.tile_size + self.tile_size, y1 + j*self.tile_size)\n",
    "                pt2 = (x1 + i*self.tile_size + self.tile_size, y1 + j*self.tile_size + self.tile_size)\n",
    "                pt3 = (x1 + i*self.tile_size, y1 + j*self.tile_size + self.tile_size)\n",
    "                tile = [[pt0, pt1, pt2, pt3]]\n",
    "                rowDict = {'geometry' : {'type':'Polygon', 'coordinates': tile}, 'properties': {'name': 'tile'}}\n",
    "                polyShp.write(rowDict)\n",
    "\n",
    "                polyShp.close()\n",
    "                \n",
    "                "
   ]
  },
  {
   "cell_type": "code",
   "execution_count": 61,
   "metadata": {
    "colab": {
     "base_uri": "https://localhost:8080/"
    },
    "executionInfo": {
     "elapsed": 202,
     "status": "ok",
     "timestamp": 1641880628972,
     "user": {
      "displayName": "Zhiang Chen",
      "photoUrl": "https://lh3.googleusercontent.com/a-/AOh14Gjx1MzMxCPErV6uZ1fm_qWchx0_bovJ3Kc9IO8rwQ=s64",
      "userId": "14710434422152901796"
     },
     "user_tz": 420
    },
    "id": "JGpW7sRZ8so_",
    "outputId": "97322eec-7323-47ef-b20c-4313fd32fd23"
   },
   "outputs": [
    {
     "name": "stderr",
     "output_type": "stream",
     "text": [
      "/usr/local/lib/python3.7/dist-packages/ipykernel_launcher.py:11: FutureWarning: Currently, index_parts defaults to True, but in the future, it will default to False to be consistent with Pandas. Use `index_parts=True` to keep the current behavior and True/False to silence the warning.\n",
      "  # This is added back by InteractiveShellApp.init_path()\n"
     ]
    }
   ],
   "source": [
    "#ts = Tile_Splitter(\"data/rocklas/granite_dells_wgs_utm.tif\", \"data/rocklas/annotation_shapefiles/free_standing_rock.shp\", 5, 'data/rocklas/tiles')\n",
    "ts = Tile_Splitter(\"data/rocklas/granite_dells_wgs_utm.tif\", \"data/rocklas/annotation_shapefiles/merged_rock.shp\", 5, 'data/rocklas/tiles')"
   ]
  },
  {
   "cell_type": "code",
   "execution_count": 62,
   "metadata": {
    "executionInfo": {
     "elapsed": 11280,
     "status": "ok",
     "timestamp": 1641880641014,
     "user": {
      "displayName": "Zhiang Chen",
      "photoUrl": "https://lh3.googleusercontent.com/a-/AOh14Gjx1MzMxCPErV6uZ1fm_qWchx0_bovJ3Kc9IO8rwQ=s64",
      "userId": "14710434422152901796"
     },
     "user_tz": 420
    },
    "id": "bXGW6KX2QOli",
    "scrolled": false
   },
   "outputs": [
    {
     "name": "stdout",
     "output_type": "stream",
     "text": [
      "data/rocklas/tiles/8_16.shp\n",
      "data/rocklas/tiles/9_16.shp\n",
      "data/rocklas/tiles/9_15.shp\n",
      "data/rocklas/tiles/9_14.shp\n",
      "data/rocklas/tiles/8_14.shp\n",
      "data/rocklas/tiles/4_13.shp\n",
      "data/rocklas/tiles/4_14.shp\n",
      "data/rocklas/tiles/5_13.shp\n",
      "data/rocklas/tiles/5_14.shp\n",
      "data/rocklas/tiles/4_12.shp\n",
      "data/rocklas/tiles/5_12.shp\n",
      "data/rocklas/tiles/3_13.shp\n",
      "data/rocklas/tiles/6_11.shp\n",
      "data/rocklas/tiles/6_9.shp\n",
      "data/rocklas/tiles/6_10.shp\n",
      "data/rocklas/tiles/7_9.shp\n",
      "data/rocklas/tiles/7_10.shp\n",
      "data/rocklas/tiles/5_10.shp\n",
      "data/rocklas/tiles/3_8.shp\n",
      "data/rocklas/tiles/4_8.shp\n",
      "data/rocklas/tiles/3_6.shp\n",
      "data/rocklas/tiles/4_6.shp\n",
      "data/rocklas/tiles/5_6.shp\n",
      "data/rocklas/tiles/4_7.shp\n",
      "data/rocklas/tiles/5_7.shp\n",
      "data/rocklas/tiles/6_7.shp\n",
      "data/rocklas/tiles/7_7.shp\n",
      "data/rocklas/tiles/8_7.shp\n",
      "data/rocklas/tiles/9_7.shp\n",
      "data/rocklas/tiles/9_8.shp\n",
      "data/rocklas/tiles/9_10.shp\n"
     ]
    },
    {
     "name": "stderr",
     "output_type": "stream",
     "text": [
      "/usr/local/lib/python3.7/dist-packages/ipykernel_launcher.py:57: ShapelyDeprecationWarning: Iteration over multi-part geometries is deprecated and will be removed in Shapely 2.0. Use the `geoms` property to access the constituent parts of a multi-part geometry.\n"
     ]
    },
    {
     "name": "stdout",
     "output_type": "stream",
     "text": [
      "data/rocklas/tiles/9_11.shp\n",
      "data/rocklas/tiles/10_10.shp\n",
      "data/rocklas/tiles/10_11.shp\n",
      "data/rocklas/tiles/9_12.shp\n",
      "data/rocklas/tiles/9_13.shp\n",
      "data/rocklas/tiles/7_14.shp\n",
      "data/rocklas/tiles/8_9.shp\n",
      "data/rocklas/tiles/8_10.shp\n",
      "data/rocklas/tiles/7_8.shp\n",
      "data/rocklas/tiles/8_8.shp\n",
      "data/rocklas/tiles/9_9.shp\n",
      "data/rocklas/tiles/11_7.shp\n",
      "data/rocklas/tiles/11_8.shp\n",
      "data/rocklas/tiles/12_9.shp\n",
      "data/rocklas/tiles/13_12.shp\n",
      "data/rocklas/tiles/13_10.shp\n",
      "data/rocklas/tiles/14_10.shp\n",
      "data/rocklas/tiles/13_9.shp\n",
      "data/rocklas/tiles/14_9.shp\n",
      "data/rocklas/tiles/15_9.shp\n",
      "data/rocklas/tiles/3_7.shp\n",
      "data/rocklas/tiles/5_5.shp\n",
      "data/rocklas/tiles/2_9.shp\n",
      "data/rocklas/tiles/3_9.shp\n",
      "data/rocklas/tiles/8_15.shp\n",
      "data/rocklas/tiles/8_12.shp\n",
      "data/rocklas/tiles/15_8.shp\n",
      "data/rocklas/tiles/13_11.shp\n",
      "data/rocklas/tiles/14_11.shp\n",
      "data/rocklas/tiles/12_11.shp\n",
      "data/rocklas/tiles/11_9.shp\n",
      "data/rocklas/tiles/11_10.shp\n",
      "data/rocklas/tiles/12_10.shp\n",
      "data/rocklas/tiles/10_9.shp\n",
      "data/rocklas/tiles/13_8.shp\n",
      "data/rocklas/tiles/14_8.shp\n",
      "data/rocklas/tiles/12_7.shp\n",
      "data/rocklas/tiles/12_8.shp\n",
      "data/rocklas/tiles/7_5.shp\n",
      "data/rocklas/tiles/7_6.shp\n",
      "data/rocklas/tiles/8_13.shp\n",
      "data/rocklas/tiles/10_15.shp\n",
      "data/rocklas/tiles/11_13.shp\n",
      "data/rocklas/tiles/12_13.shp\n",
      "data/rocklas/tiles/11_12.shp\n",
      "data/rocklas/tiles/8_11.shp\n",
      "data/rocklas/tiles/16_8.shp\n",
      "data/rocklas/tiles/16_7.shp\n",
      "data/rocklas/tiles/12_6.shp\n",
      "data/rocklas/tiles/14_7.shp\n",
      "data/rocklas/tiles/10_12.shp\n",
      "data/rocklas/tiles/7_13.shp\n",
      "data/rocklas/tiles/10_8.shp\n",
      "data/rocklas/tiles/6_14.shp\n",
      "data/rocklas/tiles/6_15.shp\n",
      "data/rocklas/tiles/5_15.shp\n",
      "data/rocklas/tiles/10_6.shp\n",
      "data/rocklas/tiles/5_8.shp\n",
      "data/rocklas/tiles/6_8.shp\n",
      "data/rocklas/tiles/8_16.tif\n",
      "data/rocklas/tiles/9_16.tif\n",
      "data/rocklas/tiles/9_15.tif\n",
      "data/rocklas/tiles/9_14.tif\n",
      "data/rocklas/tiles/8_14.tif\n",
      "data/rocklas/tiles/4_13.tif\n",
      "data/rocklas/tiles/4_14.tif\n",
      "data/rocklas/tiles/5_13.tif\n",
      "data/rocklas/tiles/5_14.tif\n",
      "data/rocklas/tiles/4_12.tif\n",
      "data/rocklas/tiles/5_12.tif\n",
      "data/rocklas/tiles/3_13.tif\n",
      "data/rocklas/tiles/6_11.tif\n",
      "data/rocklas/tiles/6_9.tif\n",
      "data/rocklas/tiles/6_10.tif\n",
      "data/rocklas/tiles/7_9.tif\n",
      "data/rocklas/tiles/7_10.tif\n",
      "data/rocklas/tiles/5_10.tif\n",
      "data/rocklas/tiles/3_8.tif\n",
      "data/rocklas/tiles/4_8.tif\n",
      "data/rocklas/tiles/3_6.tif\n",
      "data/rocklas/tiles/4_6.tif\n",
      "data/rocklas/tiles/5_6.tif\n",
      "data/rocklas/tiles/4_7.tif\n",
      "data/rocklas/tiles/5_7.tif\n",
      "data/rocklas/tiles/6_7.tif\n",
      "data/rocklas/tiles/7_7.tif\n",
      "data/rocklas/tiles/8_7.tif\n",
      "data/rocklas/tiles/9_7.tif\n",
      "data/rocklas/tiles/9_8.tif\n",
      "data/rocklas/tiles/9_10.tif\n",
      "data/rocklas/tiles/9_11.tif\n",
      "data/rocklas/tiles/10_10.tif\n",
      "data/rocklas/tiles/10_11.tif\n",
      "data/rocklas/tiles/9_12.tif\n",
      "data/rocklas/tiles/9_13.tif\n",
      "data/rocklas/tiles/7_14.tif\n",
      "data/rocklas/tiles/8_9.tif\n",
      "data/rocklas/tiles/8_10.tif\n",
      "data/rocklas/tiles/7_8.tif\n",
      "data/rocklas/tiles/8_8.tif\n",
      "data/rocklas/tiles/9_9.tif\n",
      "data/rocklas/tiles/11_7.tif\n",
      "data/rocklas/tiles/11_8.tif\n",
      "data/rocklas/tiles/12_9.tif\n",
      "data/rocklas/tiles/13_12.tif\n",
      "data/rocklas/tiles/13_10.tif\n",
      "data/rocklas/tiles/14_10.tif\n",
      "data/rocklas/tiles/13_9.tif\n",
      "data/rocklas/tiles/14_9.tif\n",
      "data/rocklas/tiles/15_9.tif\n",
      "data/rocklas/tiles/3_7.tif\n",
      "data/rocklas/tiles/5_5.tif\n",
      "data/rocklas/tiles/2_9.tif\n",
      "data/rocklas/tiles/3_9.tif\n",
      "data/rocklas/tiles/8_15.tif\n",
      "data/rocklas/tiles/8_12.tif\n",
      "data/rocklas/tiles/15_8.tif\n",
      "data/rocklas/tiles/13_11.tif\n",
      "data/rocklas/tiles/14_11.tif\n",
      "data/rocklas/tiles/12_11.tif\n",
      "data/rocklas/tiles/11_9.tif\n",
      "data/rocklas/tiles/11_10.tif\n",
      "data/rocklas/tiles/12_10.tif\n",
      "data/rocklas/tiles/10_9.tif\n",
      "data/rocklas/tiles/13_8.tif\n",
      "data/rocklas/tiles/14_8.tif\n",
      "data/rocklas/tiles/12_7.tif\n",
      "data/rocklas/tiles/12_8.tif\n",
      "data/rocklas/tiles/7_5.tif\n",
      "data/rocklas/tiles/7_6.tif\n",
      "data/rocklas/tiles/8_13.tif\n",
      "data/rocklas/tiles/10_15.tif\n",
      "data/rocklas/tiles/11_13.tif\n",
      "data/rocklas/tiles/12_13.tif\n",
      "data/rocklas/tiles/11_12.tif\n",
      "data/rocklas/tiles/8_11.tif\n",
      "data/rocklas/tiles/16_8.tif\n",
      "data/rocklas/tiles/16_7.tif\n",
      "data/rocklas/tiles/12_6.tif\n",
      "data/rocklas/tiles/14_7.tif\n",
      "data/rocklas/tiles/10_12.tif\n",
      "data/rocklas/tiles/7_13.tif\n",
      "data/rocklas/tiles/10_8.tif\n",
      "data/rocklas/tiles/6_14.tif\n",
      "data/rocklas/tiles/6_15.tif\n",
      "data/rocklas/tiles/5_15.tif\n",
      "data/rocklas/tiles/10_6.tif\n",
      "data/rocklas/tiles/5_8.tif\n",
      "data/rocklas/tiles/6_8.tif\n"
     ]
    }
   ],
   "source": [
    "ts.split()"
   ]
  },
  {
   "cell_type": "code",
   "execution_count": null,
   "metadata": {
    "id": "3eYKTXIZm_G4"
   },
   "outputs": [],
   "source": []
  }
 ],
 "metadata": {
  "colab": {
   "authorship_tag": "ABX9TyOZ8ZZTwEv0wqTZ5lKhwJA3",
   "name": "0_0_generating_tiles_from_shapefile.ipynb",
   "provenance": []
  },
  "kernelspec": {
   "display_name": "Python 3 (ipykernel)",
   "language": "python",
   "name": "python3"
  },
  "language_info": {
   "codemirror_mode": {
    "name": "ipython",
    "version": 3
   },
   "file_extension": ".py",
   "mimetype": "text/x-python",
   "name": "python",
   "nbconvert_exporter": "python",
   "pygments_lexer": "ipython3",
   "version": "3.7.5"
  }
 },
 "nbformat": 4,
 "nbformat_minor": 1
}
